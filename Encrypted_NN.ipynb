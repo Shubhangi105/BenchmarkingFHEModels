{
  "nbformat": 4,
  "nbformat_minor": 0,
  "metadata": {
    "colab": {
      "provenance": [],
      "toc_visible": true,
      "mount_file_id": "1908C2gPZ-ZjU6e6OJ_3J4f0MM4RFfPjk",
      "authorship_tag": "ABX9TyOCOsUJTK6u+Dj7kBYxDdSq",
      "include_colab_link": true
    },
    "kernelspec": {
      "name": "python3",
      "display_name": "Python 3"
    },
    "language_info": {
      "name": "python"
    }
  },
  "cells": [
    {
      "cell_type": "markdown",
      "metadata": {
        "id": "view-in-github",
        "colab_type": "text"
      },
      "source": [
        "<a href=\"https://colab.research.google.com/github/Shubhangi105/BenchmarkingFHEModels/blob/main/Encrypted_NN.ipynb\" target=\"_parent\"><img src=\"https://colab.research.google.com/assets/colab-badge.svg\" alt=\"Open In Colab\"/></a>"
      ]
    },
    {
      "cell_type": "markdown",
      "source": [
        "# Training neural netwrok using QAT and measuring accuracy with FHE\n",
        "\n",
        "Benchmarking accuracy in neural networks on Concrete ML for FHE. The code is profiled and time performance is reported on the outputs of the cells and the project report."
      ],
      "metadata": {
        "id": "MLldka3hRpht"
      }
    },
    {
      "cell_type": "markdown",
      "source": [
        "##Installation"
      ],
      "metadata": {
        "id": "ezL52HfUTF3T"
      }
    },
    {
      "cell_type": "code",
      "execution_count": null,
      "metadata": {
        "colab": {
          "base_uri": "https://localhost:8080/",
          "height": 1000
        },
        "id": "7UAnUVdTXiVT",
        "outputId": "bc99214c-e500-41ca-b502-41c3d0275782"
      },
      "outputs": [
        {
          "output_type": "stream",
          "name": "stdout",
          "text": [
            "Requirement already satisfied: pip in /usr/local/lib/python3.10/dist-packages (23.1.2)\n",
            "Collecting pip\n",
            "  Downloading pip-24.0-py3-none-any.whl (2.1 MB)\n",
            "\u001b[2K     \u001b[90m━━━━━━━━━━━━━━━━━━━━━━━━━━━━━━━━━━━━━━━━\u001b[0m \u001b[32m2.1/2.1 MB\u001b[0m \u001b[31m14.4 MB/s\u001b[0m eta \u001b[36m0:00:00\u001b[0m\n",
            "\u001b[?25hRequirement already satisfied: wheel in /usr/local/lib/python3.10/dist-packages (0.42.0)\n",
            "Requirement already satisfied: setuptools in /usr/local/lib/python3.10/dist-packages (67.7.2)\n",
            "Collecting setuptools\n",
            "  Downloading setuptools-69.0.3-py3-none-any.whl (819 kB)\n",
            "\u001b[2K     \u001b[90m━━━━━━━━━━━━━━━━━━━━━━━━━━━━━━━━━━━━━━━━\u001b[0m \u001b[32m819.5/819.5 kB\u001b[0m \u001b[31m24.5 MB/s\u001b[0m eta \u001b[36m0:00:00\u001b[0m\n",
            "\u001b[?25hInstalling collected packages: setuptools, pip\n",
            "  Attempting uninstall: setuptools\n",
            "    Found existing installation: setuptools 67.7.2\n",
            "    Uninstalling setuptools-67.7.2:\n",
            "      Successfully uninstalled setuptools-67.7.2\n",
            "  Attempting uninstall: pip\n",
            "    Found existing installation: pip 23.1.2\n",
            "    Uninstalling pip-23.1.2:\n",
            "      Successfully uninstalled pip-23.1.2\n",
            "\u001b[31mERROR: pip's dependency resolver does not currently take into account all the packages that are installed. This behaviour is the source of the following dependency conflicts.\n",
            "ipython 7.34.0 requires jedi>=0.16, which is not installed.\n",
            "lida 0.0.10 requires fastapi, which is not installed.\n",
            "lida 0.0.10 requires kaleido, which is not installed.\n",
            "lida 0.0.10 requires python-multipart, which is not installed.\n",
            "lida 0.0.10 requires uvicorn, which is not installed.\u001b[0m\u001b[31m\n",
            "\u001b[0mSuccessfully installed pip-24.0 setuptools-69.0.3\n"
          ]
        },
        {
          "output_type": "display_data",
          "data": {
            "application/vnd.colab-display-data+json": {
              "pip_warning": {
                "packages": [
                  "_distutils_hack",
                  "pkg_resources",
                  "setuptools"
                ]
              }
            }
          },
          "metadata": {}
        },
        {
          "output_type": "stream",
          "name": "stdout",
          "text": [
            "Collecting concrete-ml\n",
            "  Downloading concrete_ml-1.4.0-py3-none-any.whl.metadata (12 kB)\n",
            "Collecting boto3<2.0.0,>=1.23.5 (from concrete-ml)\n",
            "  Downloading boto3-1.34.34-py3-none-any.whl.metadata (6.6 kB)\n",
            "Collecting brevitas==0.8.0 (from concrete-ml)\n",
            "  Downloading brevitas-0.8.0-py3-none-any.whl (357 kB)\n",
            "\u001b[2K     \u001b[90m━━━━━━━━━━━━━━━━━━━━━━━━━━━━━━━━━━━━━━━━\u001b[0m \u001b[32m357.3/357.3 kB\u001b[0m \u001b[31m7.2 MB/s\u001b[0m eta \u001b[36m0:00:00\u001b[0m\n",
            "\u001b[?25hCollecting certifi==2023.07.22 (from concrete-ml)\n",
            "  Downloading certifi-2023.7.22-py3-none-any.whl.metadata (2.2 kB)\n",
            "Collecting concrete-python==2.5.0 (from concrete-ml)\n",
            "  Downloading concrete_python-2.5-cp310-cp310-manylinux_2_28_x86_64.whl.metadata (8.4 kB)\n",
            "Collecting fastapi<0.103.0,>=0.102.0 (from concrete-ml)\n",
            "  Downloading fastapi-0.102.0-py3-none-any.whl.metadata (24 kB)\n",
            "Collecting gitpython==3.1.41 (from concrete-ml)\n",
            "  Downloading GitPython-3.1.41-py3-none-any.whl.metadata (14 kB)\n",
            "Collecting hummingbird-ml==0.4.8 (from hummingbird-ml[onnx]==0.4.8->concrete-ml)\n",
            "  Downloading hummingbird_ml-0.4.8-py2.py3-none-any.whl (164 kB)\n",
            "\u001b[2K     \u001b[90m━━━━━━━━━━━━━━━━━━━━━━━━━━━━━━━━━━━━━━━━\u001b[0m \u001b[32m164.6/164.6 kB\u001b[0m \u001b[31m10.8 MB/s\u001b[0m eta \u001b[36m0:00:00\u001b[0m\n",
            "\u001b[?25hRequirement already satisfied: numpy==1.23.5 in /usr/local/lib/python3.10/dist-packages (from concrete-ml) (1.23.5)\n",
            "Collecting onnx==1.13.1 (from concrete-ml)\n",
            "  Downloading onnx-1.13.1-cp310-cp310-manylinux_2_17_x86_64.manylinux2014_x86_64.whl (13.5 MB)\n",
            "\u001b[2K     \u001b[90m━━━━━━━━━━━━━━━━━━━━━━━━━━━━━━━━━━━━━━━━\u001b[0m \u001b[32m13.5/13.5 MB\u001b[0m \u001b[31m52.8 MB/s\u001b[0m eta \u001b[36m0:00:00\u001b[0m\n",
            "\u001b[?25hCollecting onnxoptimizer==0.3.10 (from concrete-ml)\n",
            "  Downloading onnxoptimizer-0.3.10-cp310-cp310-manylinux_2_17_x86_64.manylinux2014_x86_64.whl (671 kB)\n",
            "\u001b[2K     \u001b[90m━━━━━━━━━━━━━━━━━━━━━━━━━━━━━━━━━━━━━━━━\u001b[0m \u001b[32m671.6/671.6 kB\u001b[0m \u001b[31m27.2 MB/s\u001b[0m eta \u001b[36m0:00:00\u001b[0m\n",
            "\u001b[?25hCollecting onnxruntime==1.13.1 (from concrete-ml)\n",
            "  Downloading onnxruntime-1.13.1-cp310-cp310-manylinux_2_27_x86_64.whl (4.5 MB)\n",
            "\u001b[2K     \u001b[90m━━━━━━━━━━━━━━━━━━━━━━━━━━━━━━━━━━━━━━━━\u001b[0m \u001b[32m4.5/4.5 MB\u001b[0m \u001b[31m55.3 MB/s\u001b[0m eta \u001b[36m0:00:00\u001b[0m\n",
            "\u001b[?25hRequirement already satisfied: protobuf==3.20.3 in /usr/local/lib/python3.10/dist-packages (from concrete-ml) (3.20.3)\n",
            "Collecting pytest-json-report==1.5.0 (from concrete-ml)\n",
            "  Downloading pytest_json_report-1.5.0-py3-none-any.whl (13 kB)\n",
            "Collecting scikit-learn==1.1.3 (from concrete-ml)\n",
            "  Downloading scikit_learn-1.1.3-cp310-cp310-manylinux_2_17_x86_64.manylinux2014_x86_64.whl (30.5 MB)\n",
            "\u001b[2K     \u001b[90m━━━━━━━━━━━━━━━━━━━━━━━━━━━━━━━━━━━━━━━━\u001b[0m \u001b[32m30.5/30.5 MB\u001b[0m \u001b[31m37.2 MB/s\u001b[0m eta \u001b[36m0:00:00\u001b[0m\n",
            "\u001b[?25hCollecting scipy==1.10.1 (from concrete-ml)\n",
            "  Downloading scipy-1.10.1-cp310-cp310-manylinux_2_17_x86_64.manylinux2014_x86_64.whl (34.4 MB)\n",
            "\u001b[2K     \u001b[90m━━━━━━━━━━━━━━━━━━━━━━━━━━━━━━━━━━━━━━━━\u001b[0m \u001b[32m34.4/34.4 MB\u001b[0m \u001b[31m19.3 MB/s\u001b[0m eta \u001b[36m0:00:00\u001b[0m\n",
            "\u001b[?25hCollecting setuptools==65.6.3 (from concrete-ml)\n",
            "  Downloading setuptools-65.6.3-py3-none-any.whl (1.2 MB)\n",
            "\u001b[2K     \u001b[90m━━━━━━━━━━━━━━━━━━━━━━━━━━━━━━━━━━━━━━━━\u001b[0m \u001b[32m1.2/1.2 MB\u001b[0m \u001b[31m48.9 MB/s\u001b[0m eta \u001b[36m0:00:00\u001b[0m\n",
            "\u001b[?25hCollecting skops==0.5.0 (from concrete-ml)\n",
            "  Downloading skops-0.5.0-py3-none-any.whl (92 kB)\n",
            "\u001b[2K     \u001b[90m━━━━━━━━━━━━━━━━━━━━━━━━━━━━━━━━━━━━━━━━\u001b[0m \u001b[32m92.8/92.8 kB\u001b[0m \u001b[31m6.7 MB/s\u001b[0m eta \u001b[36m0:00:00\u001b[0m\n",
            "\u001b[?25hCollecting skorch==0.11.0 (from concrete-ml)\n",
            "  Downloading skorch-0.11.0-py3-none-any.whl (155 kB)\n",
            "\u001b[2K     \u001b[90m━━━━━━━━━━━━━━━━━━━━━━━━━━━━━━━━━━━━━━━━\u001b[0m \u001b[32m155.1/155.1 kB\u001b[0m \u001b[31m10.8 MB/s\u001b[0m eta \u001b[36m0:00:00\u001b[0m\n",
            "\u001b[?25hCollecting torch==1.13.1 (from concrete-ml)\n",
            "  Downloading torch-1.13.1-cp310-cp310-manylinux1_x86_64.whl (887.5 MB)\n",
            "\u001b[2K     \u001b[90m━━━━━━━━━━━━━━━━━━━━━━━━━━━━━━━━━━━━━━━━\u001b[0m \u001b[32m887.5/887.5 MB\u001b[0m \u001b[31m2.2 MB/s\u001b[0m eta \u001b[36m0:00:00\u001b[0m\n",
            "\u001b[?25hRequirement already satisfied: tqdm<5.0.0,>=4.64.1 in /usr/local/lib/python3.10/dist-packages (from concrete-ml) (4.66.1)\n",
            "Collecting transformers<5.0.0,>=4.36.0 (from concrete-ml)\n",
            "  Downloading transformers-4.37.2-py3-none-any.whl.metadata (129 kB)\n",
            "\u001b[2K     \u001b[90m━━━━━━━━━━━━━━━━━━━━━━━━━━━━━━━━━━━━━━━━\u001b[0m \u001b[32m129.4/129.4 kB\u001b[0m \u001b[31m9.2 MB/s\u001b[0m eta \u001b[36m0:00:00\u001b[0m\n",
            "\u001b[?25hRequirement already satisfied: typing-extensions==4.5.0 in /usr/local/lib/python3.10/dist-packages (from concrete-ml) (4.5.0)\n",
            "Collecting uvicorn<0.22.0,>=0.21.0 (from concrete-ml)\n",
            "  Downloading uvicorn-0.21.1-py3-none-any.whl (57 kB)\n",
            "\u001b[2K     \u001b[90m━━━━━━━━━━━━━━━━━━━━━━━━━━━━━━━━━━━━━━━━\u001b[0m \u001b[32m57.8/57.8 kB\u001b[0m \u001b[31m3.3 MB/s\u001b[0m eta \u001b[36m0:00:00\u001b[0m\n",
            "\u001b[?25hCollecting xgboost==1.6.2 (from concrete-ml)\n",
            "  Downloading xgboost-1.6.2-py3-none-manylinux2014_x86_64.whl (255.9 MB)\n",
            "\u001b[2K     \u001b[90m━━━━━━━━━━━━━━━━━━━━━━━━━━━━━━━━━━━━━━━━\u001b[0m \u001b[32m255.9/255.9 MB\u001b[0m \u001b[31m5.9 MB/s\u001b[0m eta \u001b[36m0:00:00\u001b[0m\n",
            "\u001b[?25hRequirement already satisfied: packaging in /usr/local/lib/python3.10/dist-packages (from brevitas==0.8.0->concrete-ml) (23.2)\n",
            "Collecting dependencies==2.0.1 (from brevitas==0.8.0->concrete-ml)\n",
            "  Downloading dependencies-2.0.1-py2.py3-none-any.whl (15 kB)\n",
            "Requirement already satisfied: importlib-resources>=6.1 in /usr/local/lib/python3.10/dist-packages (from concrete-python==2.5.0->concrete-ml) (6.1.1)\n",
            "Requirement already satisfied: networkx>=2.6 in /usr/local/lib/python3.10/dist-packages (from concrete-python==2.5.0->concrete-ml) (3.2.1)\n",
            "Collecting z3-solver>=4.12 (from concrete-python==2.5.0->concrete-ml)\n",
            "  Downloading z3_solver-4.12.5.0-py2.py3-none-manylinux2014_x86_64.whl.metadata (732 bytes)\n",
            "Collecting gitdb<5,>=4.0.1 (from gitpython==3.1.41->concrete-ml)\n",
            "  Downloading gitdb-4.0.11-py3-none-any.whl.metadata (1.2 kB)\n",
            "Collecting dill (from hummingbird-ml==0.4.8->hummingbird-ml[onnx]==0.4.8->concrete-ml)\n",
            "  Downloading dill-0.3.8-py3-none-any.whl.metadata (10 kB)\n",
            "Collecting onnxconverter-common>=1.6.0 (from hummingbird-ml==0.4.8->hummingbird-ml[onnx]==0.4.8->concrete-ml)\n",
            "  Downloading onnxconverter_common-1.14.0-py2.py3-none-any.whl.metadata (4.2 kB)\n",
            "Requirement already satisfied: psutil in /usr/local/lib/python3.10/dist-packages (from hummingbird-ml==0.4.8->hummingbird-ml[onnx]==0.4.8->concrete-ml) (5.9.5)\n",
            "Collecting onnxmltools<=1.11.0,>=1.6.0 (from hummingbird-ml[onnx]==0.4.8->concrete-ml)\n",
            "  Downloading onnxmltools-1.11.0-py2.py3-none-any.whl (302 kB)\n",
            "\u001b[2K     \u001b[90m━━━━━━━━━━━━━━━━━━━━━━━━━━━━━━━━━━━━━━━━\u001b[0m \u001b[32m302.4/302.4 kB\u001b[0m \u001b[31m20.8 MB/s\u001b[0m eta \u001b[36m0:00:00\u001b[0m\n",
            "\u001b[?25hCollecting skl2onnx<=1.12.0,>=1.7.0 (from hummingbird-ml[onnx]==0.4.8->concrete-ml)\n",
            "  Downloading skl2onnx-1.12-py2.py3-none-any.whl (279 kB)\n",
            "\u001b[2K     \u001b[90m━━━━━━━━━━━━━━━━━━━━━━━━━━━━━━━━━━━━━━━━\u001b[0m \u001b[32m279.3/279.3 kB\u001b[0m \u001b[31m16.1 MB/s\u001b[0m eta \u001b[36m0:00:00\u001b[0m\n",
            "\u001b[?25hCollecting coloredlogs (from onnxruntime==1.13.1->concrete-ml)\n",
            "  Downloading coloredlogs-15.0.1-py2.py3-none-any.whl (46 kB)\n",
            "\u001b[2K     \u001b[90m━━━━━━━━━━━━━━━━━━━━━━━━━━━━━━━━━━━━━━━━\u001b[0m \u001b[32m46.0/46.0 kB\u001b[0m \u001b[31m3.2 MB/s\u001b[0m eta \u001b[36m0:00:00\u001b[0m\n",
            "\u001b[?25hRequirement already satisfied: flatbuffers in /usr/local/lib/python3.10/dist-packages (from onnxruntime==1.13.1->concrete-ml) (23.5.26)\n",
            "Requirement already satisfied: sympy in /usr/local/lib/python3.10/dist-packages (from onnxruntime==1.13.1->concrete-ml) (1.12)\n",
            "Requirement already satisfied: pytest>=3.8.0 in /usr/local/lib/python3.10/dist-packages (from pytest-json-report==1.5.0->concrete-ml) (7.4.4)\n",
            "Collecting pytest-metadata (from pytest-json-report==1.5.0->concrete-ml)\n",
            "  Downloading pytest_metadata-3.1.0-py3-none-any.whl.metadata (8.6 kB)\n",
            "Requirement already satisfied: joblib>=1.0.0 in /usr/local/lib/python3.10/dist-packages (from scikit-learn==1.1.3->concrete-ml) (1.3.2)\n",
            "Requirement already satisfied: threadpoolctl>=2.0.0 in /usr/local/lib/python3.10/dist-packages (from scikit-learn==1.1.3->concrete-ml) (3.2.0)\n",
            "Requirement already satisfied: huggingface-hub>=0.10.1 in /usr/local/lib/python3.10/dist-packages (from skops==0.5.0->concrete-ml) (0.20.3)\n",
            "Requirement already satisfied: tabulate>=0.8.8 in /usr/local/lib/python3.10/dist-packages (from skops==0.5.0->concrete-ml) (0.9.0)\n",
            "Collecting nvidia-cuda-runtime-cu11==11.7.99 (from torch==1.13.1->concrete-ml)\n",
            "  Downloading nvidia_cuda_runtime_cu11-11.7.99-py3-none-manylinux1_x86_64.whl (849 kB)\n",
            "\u001b[2K     \u001b[90m━━━━━━━━━━━━━━━━━━━━━━━━━━━━━━━━━━━━━━━━\u001b[0m \u001b[32m849.3/849.3 kB\u001b[0m \u001b[31m43.9 MB/s\u001b[0m eta \u001b[36m0:00:00\u001b[0m\n",
            "\u001b[?25hCollecting nvidia-cudnn-cu11==8.5.0.96 (from torch==1.13.1->concrete-ml)\n",
            "  Downloading nvidia_cudnn_cu11-8.5.0.96-2-py3-none-manylinux1_x86_64.whl (557.1 MB)\n",
            "\u001b[2K     \u001b[90m━━━━━━━━━━━━━━━━━━━━━━━━━━━━━━━━━━━━━━━━\u001b[0m \u001b[32m557.1/557.1 MB\u001b[0m \u001b[31m3.0 MB/s\u001b[0m eta \u001b[36m0:00:00\u001b[0m\n",
            "\u001b[?25hCollecting nvidia-cublas-cu11==11.10.3.66 (from torch==1.13.1->concrete-ml)\n",
            "  Downloading nvidia_cublas_cu11-11.10.3.66-py3-none-manylinux1_x86_64.whl (317.1 MB)\n",
            "\u001b[2K     \u001b[90m━━━━━━━━━━━━━━━━━━━━━━━━━━━━━━━━━━━━━━━━\u001b[0m \u001b[32m317.1/317.1 MB\u001b[0m \u001b[31m4.4 MB/s\u001b[0m eta \u001b[36m0:00:00\u001b[0m\n",
            "\u001b[?25hCollecting nvidia-cuda-nvrtc-cu11==11.7.99 (from torch==1.13.1->concrete-ml)\n",
            "  Downloading nvidia_cuda_nvrtc_cu11-11.7.99-2-py3-none-manylinux1_x86_64.whl (21.0 MB)\n",
            "\u001b[2K     \u001b[90m━━━━━━━━━━━━━━━━━━━━━━━━━━━━━━━━━━━━━━━━\u001b[0m \u001b[32m21.0/21.0 MB\u001b[0m \u001b[31m17.6 MB/s\u001b[0m eta \u001b[36m0:00:00\u001b[0m\n",
            "\u001b[?25hRequirement already satisfied: wheel in /usr/local/lib/python3.10/dist-packages (from nvidia-cublas-cu11==11.10.3.66->torch==1.13.1->concrete-ml) (0.42.0)\n",
            "Collecting botocore<1.35.0,>=1.34.34 (from boto3<2.0.0,>=1.23.5->concrete-ml)\n",
            "  Downloading botocore-1.34.34-py3-none-any.whl.metadata (5.7 kB)\n",
            "Collecting jmespath<2.0.0,>=0.7.1 (from boto3<2.0.0,>=1.23.5->concrete-ml)\n",
            "  Downloading jmespath-1.0.1-py3-none-any.whl (20 kB)\n",
            "Collecting s3transfer<0.11.0,>=0.10.0 (from boto3<2.0.0,>=1.23.5->concrete-ml)\n",
            "  Downloading s3transfer-0.10.0-py3-none-any.whl.metadata (1.7 kB)\n",
            "Requirement already satisfied: pydantic!=1.8,!=1.8.1,!=2.0.0,!=2.0.1,!=2.1.0,<3.0.0,>=1.7.4 in /usr/local/lib/python3.10/dist-packages (from fastapi<0.103.0,>=0.102.0->concrete-ml) (1.10.14)\n",
            "Collecting starlette<0.28.0,>=0.27.0 (from fastapi<0.103.0,>=0.102.0->concrete-ml)\n",
            "  Downloading starlette-0.27.0-py3-none-any.whl.metadata (5.8 kB)\n",
            "Requirement already satisfied: filelock in /usr/local/lib/python3.10/dist-packages (from transformers<5.0.0,>=4.36.0->concrete-ml) (3.13.1)\n",
            "Requirement already satisfied: pyyaml>=5.1 in /usr/local/lib/python3.10/dist-packages (from transformers<5.0.0,>=4.36.0->concrete-ml) (6.0.1)\n",
            "Requirement already satisfied: regex!=2019.12.17 in /usr/local/lib/python3.10/dist-packages (from transformers<5.0.0,>=4.36.0->concrete-ml) (2023.12.25)\n",
            "Requirement already satisfied: requests in /usr/local/lib/python3.10/dist-packages (from transformers<5.0.0,>=4.36.0->concrete-ml) (2.31.0)\n",
            "Requirement already satisfied: tokenizers<0.19,>=0.14 in /usr/local/lib/python3.10/dist-packages (from transformers<5.0.0,>=4.36.0->concrete-ml) (0.15.1)\n",
            "Requirement already satisfied: safetensors>=0.4.1 in /usr/local/lib/python3.10/dist-packages (from transformers<5.0.0,>=4.36.0->concrete-ml) (0.4.2)\n",
            "Requirement already satisfied: click>=7.0 in /usr/local/lib/python3.10/dist-packages (from uvicorn<0.22.0,>=0.21.0->concrete-ml) (8.1.7)\n",
            "Collecting h11>=0.8 (from uvicorn<0.22.0,>=0.21.0->concrete-ml)\n",
            "  Downloading h11-0.14.0-py3-none-any.whl (58 kB)\n",
            "\u001b[2K     \u001b[90m━━━━━━━━━━━━━━━━━━━━━━━━━━━━━━━━━━━━━━━━\u001b[0m \u001b[32m58.3/58.3 kB\u001b[0m \u001b[31m4.3 MB/s\u001b[0m eta \u001b[36m0:00:00\u001b[0m\n",
            "\u001b[?25hRequirement already satisfied: python-dateutil<3.0.0,>=2.1 in /usr/local/lib/python3.10/dist-packages (from botocore<1.35.0,>=1.34.34->boto3<2.0.0,>=1.23.5->concrete-ml) (2.8.2)\n",
            "Requirement already satisfied: urllib3<2.1,>=1.25.4 in /usr/local/lib/python3.10/dist-packages (from botocore<1.35.0,>=1.34.34->boto3<2.0.0,>=1.23.5->concrete-ml) (2.0.7)\n",
            "Collecting smmap<6,>=3.0.1 (from gitdb<5,>=4.0.1->gitpython==3.1.41->concrete-ml)\n",
            "  Downloading smmap-5.0.1-py3-none-any.whl.metadata (4.3 kB)\n",
            "Requirement already satisfied: fsspec>=2023.5.0 in /usr/local/lib/python3.10/dist-packages (from huggingface-hub>=0.10.1->skops==0.5.0->concrete-ml) (2023.6.0)\n",
            "INFO: pip is looking at multiple versions of onnxconverter-common to determine which version is compatible with other requirements. This could take a while.\n",
            "Collecting onnxconverter-common>=1.6.0 (from hummingbird-ml==0.4.8->hummingbird-ml[onnx]==0.4.8->concrete-ml)\n",
            "  Downloading onnxconverter_common-1.13.0-py2.py3-none-any.whl (83 kB)\n",
            "\u001b[2K     \u001b[90m━━━━━━━━━━━━━━━━━━━━━━━━━━━━━━━━━━━━━━━━\u001b[0m \u001b[32m83.8/83.8 kB\u001b[0m \u001b[31m5.7 MB/s\u001b[0m eta \u001b[36m0:00:00\u001b[0m\n",
            "\u001b[?25hRequirement already satisfied: iniconfig in /usr/local/lib/python3.10/dist-packages (from pytest>=3.8.0->pytest-json-report==1.5.0->concrete-ml) (2.0.0)\n",
            "Requirement already satisfied: pluggy<2.0,>=0.12 in /usr/local/lib/python3.10/dist-packages (from pytest>=3.8.0->pytest-json-report==1.5.0->concrete-ml) (1.4.0)\n",
            "Requirement already satisfied: exceptiongroup>=1.0.0rc8 in /usr/local/lib/python3.10/dist-packages (from pytest>=3.8.0->pytest-json-report==1.5.0->concrete-ml) (1.2.0)\n",
            "Requirement already satisfied: tomli>=1.0.0 in /usr/local/lib/python3.10/dist-packages (from pytest>=3.8.0->pytest-json-report==1.5.0->concrete-ml) (2.0.1)\n",
            "Requirement already satisfied: anyio<5,>=3.4.0 in /usr/local/lib/python3.10/dist-packages (from starlette<0.28.0,>=0.27.0->fastapi<0.103.0,>=0.102.0->concrete-ml) (3.7.1)\n",
            "Collecting humanfriendly>=9.1 (from coloredlogs->onnxruntime==1.13.1->concrete-ml)\n",
            "  Downloading humanfriendly-10.0-py2.py3-none-any.whl (86 kB)\n",
            "\u001b[2K     \u001b[90m━━━━━━━━━━━━━━━━━━━━━━━━━━━━━━━━━━━━━━━━\u001b[0m \u001b[32m86.8/86.8 kB\u001b[0m \u001b[31m6.1 MB/s\u001b[0m eta \u001b[36m0:00:00\u001b[0m\n",
            "\u001b[?25hRequirement already satisfied: charset-normalizer<4,>=2 in /usr/local/lib/python3.10/dist-packages (from requests->transformers<5.0.0,>=4.36.0->concrete-ml) (3.3.2)\n",
            "Requirement already satisfied: idna<4,>=2.5 in /usr/local/lib/python3.10/dist-packages (from requests->transformers<5.0.0,>=4.36.0->concrete-ml) (3.6)\n",
            "Requirement already satisfied: mpmath>=0.19 in /usr/local/lib/python3.10/dist-packages (from sympy->onnxruntime==1.13.1->concrete-ml) (1.3.0)\n",
            "Requirement already satisfied: sniffio>=1.1 in /usr/local/lib/python3.10/dist-packages (from anyio<5,>=3.4.0->starlette<0.28.0,>=0.27.0->fastapi<0.103.0,>=0.102.0->concrete-ml) (1.3.0)\n",
            "Requirement already satisfied: six>=1.5 in /usr/local/lib/python3.10/dist-packages (from python-dateutil<3.0.0,>=2.1->botocore<1.35.0,>=1.34.34->boto3<2.0.0,>=1.23.5->concrete-ml) (1.16.0)\n",
            "Downloading concrete_ml-1.4.0-py3-none-any.whl (220 kB)\n",
            "\u001b[2K   \u001b[90m━━━━━━━━━━━━━━━━━━━━━━━━━━━━━━━━━━━━━━━━\u001b[0m \u001b[32m220.3/220.3 kB\u001b[0m \u001b[31m13.8 MB/s\u001b[0m eta \u001b[36m0:00:00\u001b[0m\n",
            "\u001b[?25hDownloading certifi-2023.7.22-py3-none-any.whl (158 kB)\n",
            "\u001b[2K   \u001b[90m━━━━━━━━━━━━━━━━━━━━━━━━━━━━━━━━━━━━━━━━\u001b[0m \u001b[32m158.3/158.3 kB\u001b[0m \u001b[31m10.5 MB/s\u001b[0m eta \u001b[36m0:00:00\u001b[0m\n",
            "\u001b[?25hDownloading concrete_python-2.5-cp310-cp310-manylinux_2_28_x86_64.whl (65.5 MB)\n",
            "\u001b[2K   \u001b[90m━━━━━━━━━━━━━━━━━━━━━━━━━━━━━━━━━━━━━━━━\u001b[0m \u001b[32m65.5/65.5 MB\u001b[0m \u001b[31m8.0 MB/s\u001b[0m eta \u001b[36m0:00:00\u001b[0m\n",
            "\u001b[?25hDownloading GitPython-3.1.41-py3-none-any.whl (196 kB)\n",
            "\u001b[2K   \u001b[90m━━━━━━━━━━━━━━━━━━━━━━━━━━━━━━━━━━━━━━━━\u001b[0m \u001b[32m196.4/196.4 kB\u001b[0m \u001b[31m13.4 MB/s\u001b[0m eta \u001b[36m0:00:00\u001b[0m\n",
            "\u001b[?25hDownloading boto3-1.34.34-py3-none-any.whl (139 kB)\n",
            "\u001b[2K   \u001b[90m━━━━━━━━━━━━━━━━━━━━━━━━━━━━━━━━━━━━━━━━\u001b[0m \u001b[32m139.3/139.3 kB\u001b[0m \u001b[31m7.3 MB/s\u001b[0m eta \u001b[36m0:00:00\u001b[0m\n",
            "\u001b[?25hDownloading fastapi-0.102.0-py3-none-any.whl (66 kB)\n",
            "\u001b[2K   \u001b[90m━━━━━━━━━━━━━━━━━━━━━━━━━━━━━━━━━━━━━━━━\u001b[0m \u001b[32m66.0/66.0 kB\u001b[0m \u001b[31m4.5 MB/s\u001b[0m eta \u001b[36m0:00:00\u001b[0m\n",
            "\u001b[?25hDownloading transformers-4.37.2-py3-none-any.whl (8.4 MB)\n",
            "\u001b[2K   \u001b[90m━━━━━━━━━━━━━━━━━━━━━━━━━━━━━━━━━━━━━━━━\u001b[0m \u001b[32m8.4/8.4 MB\u001b[0m \u001b[31m87.8 MB/s\u001b[0m eta \u001b[36m0:00:00\u001b[0m\n",
            "\u001b[?25hDownloading botocore-1.34.34-py3-none-any.whl (11.9 MB)\n",
            "\u001b[2K   \u001b[90m━━━━━━━━━━━━━━━━━━━━━━━━━━━━━━━━━━━━━━━━\u001b[0m \u001b[32m11.9/11.9 MB\u001b[0m \u001b[31m84.0 MB/s\u001b[0m eta \u001b[36m0:00:00\u001b[0m\n",
            "\u001b[?25hDownloading gitdb-4.0.11-py3-none-any.whl (62 kB)\n",
            "\u001b[2K   \u001b[90m━━━━━━━━━━━━━━━━━━━━━━━━━━━━━━━━━━━━━━━━\u001b[0m \u001b[32m62.7/62.7 kB\u001b[0m \u001b[31m4.5 MB/s\u001b[0m eta \u001b[36m0:00:00\u001b[0m\n",
            "\u001b[?25hDownloading s3transfer-0.10.0-py3-none-any.whl (82 kB)\n",
            "\u001b[2K   \u001b[90m━━━━━━━━━━━━━━━━━━━━━━━━━━━━━━━━━━━━━━━━\u001b[0m \u001b[32m82.1/82.1 kB\u001b[0m \u001b[31m6.4 MB/s\u001b[0m eta \u001b[36m0:00:00\u001b[0m\n",
            "\u001b[?25hDownloading starlette-0.27.0-py3-none-any.whl (66 kB)\n",
            "\u001b[2K   \u001b[90m━━━━━━━━━━━━━━━━━━━━━━━━━━━━━━━━━━━━━━━━\u001b[0m \u001b[32m67.0/67.0 kB\u001b[0m \u001b[31m5.1 MB/s\u001b[0m eta \u001b[36m0:00:00\u001b[0m\n",
            "\u001b[?25hDownloading z3_solver-4.12.5.0-py2.py3-none-manylinux2014_x86_64.whl (56.9 MB)\n",
            "\u001b[2K   \u001b[90m━━━━━━━━━━━━━━━━━━━━━━━━━━━━━━━━━━━━━━━━\u001b[0m \u001b[32m56.9/56.9 MB\u001b[0m \u001b[31m4.8 MB/s\u001b[0m eta \u001b[36m0:00:00\u001b[0m\n",
            "\u001b[?25hDownloading dill-0.3.8-py3-none-any.whl (116 kB)\n",
            "\u001b[2K   \u001b[90m━━━━━━━━━━━━━━━━━━━━━━━━━━━━━━━━━━━━━━━━\u001b[0m \u001b[32m116.3/116.3 kB\u001b[0m \u001b[31m5.6 MB/s\u001b[0m eta \u001b[36m0:00:00\u001b[0m\n",
            "\u001b[?25hDownloading pytest_metadata-3.1.0-py3-none-any.whl (10 kB)\n",
            "Downloading smmap-5.0.1-py3-none-any.whl (24 kB)\n",
            "Installing collected packages: z3-solver, smmap, setuptools, scipy, onnx, nvidia-cuda-nvrtc-cu11, jmespath, humanfriendly, h11, dill, dependencies, certifi, xgboost, uvicorn, starlette, scikit-learn, pytest-metadata, onnxoptimizer, onnxconverter-common, nvidia-cuda-runtime-cu11, nvidia-cublas-cu11, gitdb, coloredlogs, botocore, skorch, skl2onnx, s3transfer, pytest-json-report, onnxruntime, nvidia-cudnn-cu11, gitpython, fastapi, torch, skops, onnxmltools, boto3, transformers, hummingbird-ml, concrete-python, brevitas, concrete-ml\n",
            "  Attempting uninstall: setuptools\n",
            "    Found existing installation: setuptools 69.0.3\n",
            "    Uninstalling setuptools-69.0.3:\n",
            "      Successfully uninstalled setuptools-69.0.3\n",
            "  Attempting uninstall: scipy\n",
            "    Found existing installation: scipy 1.11.4\n",
            "    Uninstalling scipy-1.11.4:\n",
            "      Successfully uninstalled scipy-1.11.4\n",
            "  Attempting uninstall: certifi\n",
            "    Found existing installation: certifi 2023.11.17\n",
            "    Uninstalling certifi-2023.11.17:\n",
            "      Successfully uninstalled certifi-2023.11.17\n",
            "  Attempting uninstall: xgboost\n",
            "    Found existing installation: xgboost 2.0.3\n",
            "    Uninstalling xgboost-2.0.3:\n",
            "      Successfully uninstalled xgboost-2.0.3\n",
            "  Attempting uninstall: scikit-learn\n",
            "    Found existing installation: scikit-learn 1.2.2\n",
            "    Uninstalling scikit-learn-1.2.2:\n",
            "      Successfully uninstalled scikit-learn-1.2.2\n",
            "  Attempting uninstall: torch\n",
            "    Found existing installation: torch 2.1.0+cu121\n",
            "    Uninstalling torch-2.1.0+cu121:\n",
            "      Successfully uninstalled torch-2.1.0+cu121\n",
            "  Attempting uninstall: transformers\n",
            "    Found existing installation: transformers 4.35.2\n",
            "    Uninstalling transformers-4.35.2:\n",
            "      Successfully uninstalled transformers-4.35.2\n",
            "\u001b[31mERROR: pip's dependency resolver does not currently take into account all the packages that are installed. This behaviour is the source of the following dependency conflicts.\n",
            "ipython 7.34.0 requires jedi>=0.16, which is not installed.\n",
            "lida 0.0.10 requires kaleido, which is not installed.\n",
            "lida 0.0.10 requires python-multipart, which is not installed.\n",
            "bigframes 0.20.0 requires scikit-learn>=1.2.2, but you have scikit-learn 1.1.3 which is incompatible.\n",
            "torchaudio 2.1.0+cu121 requires torch==2.1.0, but you have torch 1.13.1 which is incompatible.\n",
            "torchdata 0.7.0 requires torch==2.1.0, but you have torch 1.13.1 which is incompatible.\n",
            "torchtext 0.16.0 requires torch==2.1.0, but you have torch 1.13.1 which is incompatible.\n",
            "torchvision 0.16.0+cu121 requires torch==2.1.0, but you have torch 1.13.1 which is incompatible.\u001b[0m\u001b[31m\n",
            "\u001b[0mSuccessfully installed boto3-1.34.34 botocore-1.34.34 brevitas-0.8.0 certifi-2023.7.22 coloredlogs-15.0.1 concrete-ml-1.4.0 concrete-python-2.5 dependencies-2.0.1 dill-0.3.8 fastapi-0.102.0 gitdb-4.0.11 gitpython-3.1.41 h11-0.14.0 humanfriendly-10.0 hummingbird-ml-0.4.8 jmespath-1.0.1 nvidia-cublas-cu11-11.10.3.66 nvidia-cuda-nvrtc-cu11-11.7.99 nvidia-cuda-runtime-cu11-11.7.99 nvidia-cudnn-cu11-8.5.0.96 onnx-1.13.1 onnxconverter-common-1.13.0 onnxmltools-1.11.0 onnxoptimizer-0.3.10 onnxruntime-1.13.1 pytest-json-report-1.5.0 pytest-metadata-3.1.0 s3transfer-0.10.0 scikit-learn-1.1.3 scipy-1.10.1 setuptools-65.6.3 skl2onnx-1.12 skops-0.5.0 skorch-0.11.0 smmap-5.0.1 starlette-0.27.0 torch-1.13.1 transformers-4.37.2 uvicorn-0.21.1 xgboost-1.6.2 z3-solver-4.12.5.0\n",
            "\u001b[33mWARNING: Running pip as the 'root' user can result in broken permissions and conflicting behaviour with the system package manager. It is recommended to use a virtual environment instead: https://pip.pypa.io/warnings/venv\u001b[0m\u001b[33m\n",
            "\u001b[0m"
          ]
        },
        {
          "output_type": "display_data",
          "data": {
            "application/vnd.colab-display-data+json": {
              "pip_warning": {
                "packages": [
                  "_distutils_hack",
                  "certifi",
                  "pkg_resources",
                  "setuptools"
                ]
              }
            }
          },
          "metadata": {}
        },
        {
          "output_type": "stream",
          "name": "stdout",
          "text": [
            "Requirement already satisfied: brevitas in /usr/local/lib/python3.10/dist-packages (0.8.0)\n",
            "Requirement already satisfied: torch>=1.5.1 in /usr/local/lib/python3.10/dist-packages (from brevitas) (1.13.1)\n",
            "Requirement already satisfied: packaging in /usr/local/lib/python3.10/dist-packages (from brevitas) (23.2)\n",
            "Requirement already satisfied: setuptools in /usr/local/lib/python3.10/dist-packages (from brevitas) (65.6.3)\n",
            "Requirement already satisfied: dependencies==2.0.1 in /usr/local/lib/python3.10/dist-packages (from brevitas) (2.0.1)\n",
            "Requirement already satisfied: typing-extensions>=3.7.4 in /usr/local/lib/python3.10/dist-packages (from brevitas) (4.5.0)\n",
            "Requirement already satisfied: nvidia-cuda-runtime-cu11==11.7.99 in /usr/local/lib/python3.10/dist-packages (from torch>=1.5.1->brevitas) (11.7.99)\n",
            "Requirement already satisfied: nvidia-cudnn-cu11==8.5.0.96 in /usr/local/lib/python3.10/dist-packages (from torch>=1.5.1->brevitas) (8.5.0.96)\n",
            "Requirement already satisfied: nvidia-cublas-cu11==11.10.3.66 in /usr/local/lib/python3.10/dist-packages (from torch>=1.5.1->brevitas) (11.10.3.66)\n",
            "Requirement already satisfied: nvidia-cuda-nvrtc-cu11==11.7.99 in /usr/local/lib/python3.10/dist-packages (from torch>=1.5.1->brevitas) (11.7.99)\n",
            "Requirement already satisfied: wheel in /usr/local/lib/python3.10/dist-packages (from nvidia-cublas-cu11==11.10.3.66->torch>=1.5.1->brevitas) (0.42.0)\n",
            "\u001b[33mWARNING: Running pip as the 'root' user can result in broken permissions and conflicting behaviour with the system package manager. It is recommended to use a virtual environment instead: https://pip.pypa.io/warnings/venv\u001b[0m\u001b[33m\n",
            "\u001b[0mRequirement already satisfied: torchvision in /usr/local/lib/python3.10/dist-packages (0.16.0+cu121)\n",
            "Requirement already satisfied: numpy in /usr/local/lib/python3.10/dist-packages (from torchvision) (1.23.5)\n",
            "Requirement already satisfied: requests in /usr/local/lib/python3.10/dist-packages (from torchvision) (2.31.0)\n",
            "Collecting torch==2.1.0 (from torchvision)\n",
            "  Downloading torch-2.1.0-cp310-cp310-manylinux1_x86_64.whl.metadata (25 kB)\n",
            "Requirement already satisfied: pillow!=8.3.*,>=5.3.0 in /usr/local/lib/python3.10/dist-packages (from torchvision) (9.4.0)\n",
            "Requirement already satisfied: filelock in /usr/local/lib/python3.10/dist-packages (from torch==2.1.0->torchvision) (3.13.1)\n",
            "Requirement already satisfied: typing-extensions in /usr/local/lib/python3.10/dist-packages (from torch==2.1.0->torchvision) (4.5.0)\n",
            "Requirement already satisfied: sympy in /usr/local/lib/python3.10/dist-packages (from torch==2.1.0->torchvision) (1.12)\n",
            "Requirement already satisfied: networkx in /usr/local/lib/python3.10/dist-packages (from torch==2.1.0->torchvision) (3.2.1)\n",
            "Requirement already satisfied: jinja2 in /usr/local/lib/python3.10/dist-packages (from torch==2.1.0->torchvision) (3.1.3)\n",
            "Requirement already satisfied: fsspec in /usr/local/lib/python3.10/dist-packages (from torch==2.1.0->torchvision) (2023.6.0)\n",
            "Collecting nvidia-cuda-nvrtc-cu12==12.1.105 (from torch==2.1.0->torchvision)\n",
            "  Downloading nvidia_cuda_nvrtc_cu12-12.1.105-py3-none-manylinux1_x86_64.whl (23.7 MB)\n",
            "\u001b[2K     \u001b[90m━━━━━━━━━━━━━━━━━━━━━━━━━━━━━━━━━━━━━━━━\u001b[0m \u001b[32m23.7/23.7 MB\u001b[0m \u001b[31m68.6 MB/s\u001b[0m eta \u001b[36m0:00:00\u001b[0m\n",
            "\u001b[?25hCollecting nvidia-cuda-runtime-cu12==12.1.105 (from torch==2.1.0->torchvision)\n",
            "  Downloading nvidia_cuda_runtime_cu12-12.1.105-py3-none-manylinux1_x86_64.whl (823 kB)\n",
            "\u001b[2K     \u001b[90m━━━━━━━━━━━━━━━━━━━━━━━━━━━━━━━━━━━━━━━━\u001b[0m \u001b[32m823.6/823.6 kB\u001b[0m \u001b[31m41.4 MB/s\u001b[0m eta \u001b[36m0:00:00\u001b[0m\n",
            "\u001b[?25hCollecting nvidia-cuda-cupti-cu12==12.1.105 (from torch==2.1.0->torchvision)\n",
            "  Downloading nvidia_cuda_cupti_cu12-12.1.105-py3-none-manylinux1_x86_64.whl (14.1 MB)\n",
            "\u001b[2K     \u001b[90m━━━━━━━━━━━━━━━━━━━━━━━━━━━━━━━━━━━━━━━━\u001b[0m \u001b[32m14.1/14.1 MB\u001b[0m \u001b[31m79.0 MB/s\u001b[0m eta \u001b[36m0:00:00\u001b[0m\n",
            "\u001b[?25hCollecting nvidia-cudnn-cu12==8.9.2.26 (from torch==2.1.0->torchvision)\n",
            "  Downloading nvidia_cudnn_cu12-8.9.2.26-py3-none-manylinux1_x86_64.whl.metadata (1.6 kB)\n",
            "Collecting nvidia-cublas-cu12==12.1.3.1 (from torch==2.1.0->torchvision)\n",
            "  Downloading nvidia_cublas_cu12-12.1.3.1-py3-none-manylinux1_x86_64.whl (410.6 MB)\n",
            "\u001b[2K     \u001b[90m━━━━━━━━━━━━━━━━━━━━━━━━━━━━━━━━━━━━━━━━\u001b[0m \u001b[32m410.6/410.6 MB\u001b[0m \u001b[31m4.0 MB/s\u001b[0m eta \u001b[36m0:00:00\u001b[0m\n",
            "\u001b[?25hCollecting nvidia-cufft-cu12==11.0.2.54 (from torch==2.1.0->torchvision)\n",
            "  Downloading nvidia_cufft_cu12-11.0.2.54-py3-none-manylinux1_x86_64.whl (121.6 MB)\n",
            "\u001b[2K     \u001b[90m━━━━━━━━━━━━━━━━━━━━━━━━━━━━━━━━━━━━━━━━\u001b[0m \u001b[32m121.6/121.6 MB\u001b[0m \u001b[31m7.3 MB/s\u001b[0m eta \u001b[36m0:00:00\u001b[0m\n",
            "\u001b[?25hCollecting nvidia-curand-cu12==10.3.2.106 (from torch==2.1.0->torchvision)\n",
            "  Downloading nvidia_curand_cu12-10.3.2.106-py3-none-manylinux1_x86_64.whl (56.5 MB)\n",
            "\u001b[2K     \u001b[90m━━━━━━━━━━━━━━━━━━━━━━━━━━━━━━━━━━━━━━━━\u001b[0m \u001b[32m56.5/56.5 MB\u001b[0m \u001b[31m12.6 MB/s\u001b[0m eta \u001b[36m0:00:00\u001b[0m\n",
            "\u001b[?25hCollecting nvidia-cusolver-cu12==11.4.5.107 (from torch==2.1.0->torchvision)\n",
            "  Downloading nvidia_cusolver_cu12-11.4.5.107-py3-none-manylinux1_x86_64.whl (124.2 MB)\n",
            "\u001b[2K     \u001b[90m━━━━━━━━━━━━━━━━━━━━━━━━━━━━━━━━━━━━━━━━\u001b[0m \u001b[32m124.2/124.2 MB\u001b[0m \u001b[31m7.9 MB/s\u001b[0m eta \u001b[36m0:00:00\u001b[0m\n",
            "\u001b[?25hCollecting nvidia-cusparse-cu12==12.1.0.106 (from torch==2.1.0->torchvision)\n",
            "  Downloading nvidia_cusparse_cu12-12.1.0.106-py3-none-manylinux1_x86_64.whl (196.0 MB)\n",
            "\u001b[2K     \u001b[90m━━━━━━━━━━━━━━━━━━━━━━━━━━━━━━━━━━━━━━━━\u001b[0m \u001b[32m196.0/196.0 MB\u001b[0m \u001b[31m6.9 MB/s\u001b[0m eta \u001b[36m0:00:00\u001b[0m\n",
            "\u001b[?25hCollecting nvidia-nccl-cu12==2.18.1 (from torch==2.1.0->torchvision)\n",
            "  Downloading nvidia_nccl_cu12-2.18.1-py3-none-manylinux1_x86_64.whl (209.8 MB)\n",
            "\u001b[2K     \u001b[90m━━━━━━━━━━━━━━━━━━━━━━━━━━━━━━━━━━━━━━━━\u001b[0m \u001b[32m209.8/209.8 MB\u001b[0m \u001b[31m6.2 MB/s\u001b[0m eta \u001b[36m0:00:00\u001b[0m\n",
            "\u001b[?25hCollecting nvidia-nvtx-cu12==12.1.105 (from torch==2.1.0->torchvision)\n",
            "  Downloading nvidia_nvtx_cu12-12.1.105-py3-none-manylinux1_x86_64.whl (99 kB)\n",
            "\u001b[2K     \u001b[90m━━━━━━━━━━━━━━━━━━━━━━━━━━━━━━━━━━━━━━━━\u001b[0m \u001b[32m99.1/99.1 kB\u001b[0m \u001b[31m6.4 MB/s\u001b[0m eta \u001b[36m0:00:00\u001b[0m\n",
            "\u001b[?25hRequirement already satisfied: triton==2.1.0 in /usr/local/lib/python3.10/dist-packages (from torch==2.1.0->torchvision) (2.1.0)\n",
            "Collecting nvidia-nvjitlink-cu12 (from nvidia-cusolver-cu12==11.4.5.107->torch==2.1.0->torchvision)\n",
            "  Downloading nvidia_nvjitlink_cu12-12.3.101-py3-none-manylinux1_x86_64.whl.metadata (1.5 kB)\n",
            "Requirement already satisfied: charset-normalizer<4,>=2 in /usr/local/lib/python3.10/dist-packages (from requests->torchvision) (3.3.2)\n",
            "Requirement already satisfied: idna<4,>=2.5 in /usr/local/lib/python3.10/dist-packages (from requests->torchvision) (3.6)\n",
            "Requirement already satisfied: urllib3<3,>=1.21.1 in /usr/local/lib/python3.10/dist-packages (from requests->torchvision) (2.0.7)\n",
            "Requirement already satisfied: certifi>=2017.4.17 in /usr/local/lib/python3.10/dist-packages (from requests->torchvision) (2023.7.22)\n",
            "Requirement already satisfied: MarkupSafe>=2.0 in /usr/local/lib/python3.10/dist-packages (from jinja2->torch==2.1.0->torchvision) (2.1.4)\n",
            "Requirement already satisfied: mpmath>=0.19 in /usr/local/lib/python3.10/dist-packages (from sympy->torch==2.1.0->torchvision) (1.3.0)\n",
            "Downloading torch-2.1.0-cp310-cp310-manylinux1_x86_64.whl (670.2 MB)\n",
            "\u001b[2K   \u001b[90m━━━━━━━━━━━━━━━━━━━━━━━━━━━━━━━━━━━━━━━━\u001b[0m \u001b[32m670.2/670.2 MB\u001b[0m \u001b[31m2.9 MB/s\u001b[0m eta \u001b[36m0:00:00\u001b[0m\n",
            "\u001b[?25hDownloading nvidia_cudnn_cu12-8.9.2.26-py3-none-manylinux1_x86_64.whl (731.7 MB)\n",
            "\u001b[2K   \u001b[90m━━━━━━━━━━━━━━━━━━━━━━━━━━━━━━━━━━━━━━━━\u001b[0m \u001b[32m731.7/731.7 MB\u001b[0m \u001b[31m2.7 MB/s\u001b[0m eta \u001b[36m0:00:00\u001b[0m\n",
            "\u001b[?25hDownloading nvidia_nvjitlink_cu12-12.3.101-py3-none-manylinux1_x86_64.whl (20.5 MB)\n",
            "\u001b[2K   \u001b[90m━━━━━━━━━━━━━━━━━━━━━━━━━━━━━━━━━━━━━━━━\u001b[0m \u001b[32m20.5/20.5 MB\u001b[0m \u001b[31m71.5 MB/s\u001b[0m eta \u001b[36m0:00:00\u001b[0m\n",
            "\u001b[?25hInstalling collected packages: nvidia-nvtx-cu12, nvidia-nvjitlink-cu12, nvidia-nccl-cu12, nvidia-curand-cu12, nvidia-cufft-cu12, nvidia-cuda-runtime-cu12, nvidia-cuda-nvrtc-cu12, nvidia-cuda-cupti-cu12, nvidia-cublas-cu12, nvidia-cusparse-cu12, nvidia-cudnn-cu12, nvidia-cusolver-cu12, torch\n",
            "  Attempting uninstall: torch\n",
            "    Found existing installation: torch 1.13.1\n",
            "    Uninstalling torch-1.13.1:\n",
            "      Successfully uninstalled torch-1.13.1\n",
            "\u001b[31mERROR: pip's dependency resolver does not currently take into account all the packages that are installed. This behaviour is the source of the following dependency conflicts.\n",
            "concrete-ml 1.4.0 requires torch==1.13.1, but you have torch 2.1.0 which is incompatible.\u001b[0m\u001b[31m\n",
            "\u001b[0mSuccessfully installed nvidia-cublas-cu12-12.1.3.1 nvidia-cuda-cupti-cu12-12.1.105 nvidia-cuda-nvrtc-cu12-12.1.105 nvidia-cuda-runtime-cu12-12.1.105 nvidia-cudnn-cu12-8.9.2.26 nvidia-cufft-cu12-11.0.2.54 nvidia-curand-cu12-10.3.2.106 nvidia-cusolver-cu12-11.4.5.107 nvidia-cusparse-cu12-12.1.0.106 nvidia-nccl-cu12-2.18.1 nvidia-nvjitlink-cu12-12.3.101 nvidia-nvtx-cu12-12.1.105 torch-2.1.0\n",
            "\u001b[33mWARNING: Running pip as the 'root' user can result in broken permissions and conflicting behaviour with the system package manager. It is recommended to use a virtual environment instead: https://pip.pypa.io/warnings/venv\u001b[0m\u001b[33m\n",
            "\u001b[0mRequirement already satisfied: tqdm in /usr/local/lib/python3.10/dist-packages (4.66.1)\n",
            "\u001b[33mWARNING: Running pip as the 'root' user can result in broken permissions and conflicting behaviour with the system package manager. It is recommended to use a virtual environment instead: https://pip.pypa.io/warnings/venv\u001b[0m\u001b[33m\n",
            "\u001b[0m"
          ]
        }
      ],
      "source": [
        "!pip install -U pip wheel setuptools\n",
        "#!pip install -r requirements.txt\n",
        "!pip install concrete-ml\n",
        "!pip install brevitas\n",
        "!pip install torchvision\n",
        "!pip install tqdm"
      ]
    },
    {
      "cell_type": "code",
      "source": [
        "import matplotlib.pyplot as plt\n",
        "import numpy as np\n",
        "import torch\n",
        "\n",
        "# Concrete-Python\n",
        "from concrete.fhe.compilation import Configuration\n",
        "\n",
        "# The QAT model\n",
        "from model import MNISTQATModel  # pylint: disable=no-name-in-module\n",
        "from torch import nn, optim\n",
        "from torch.optim.lr_scheduler import StepLR\n",
        "from torchvision import datasets, transforms\n",
        "from tqdm import tqdm\n",
        "\n",
        "# Concrete ML\n",
        "from concrete.ml.torch.compile import compile_brevitas_qat_model"
      ],
      "metadata": {
        "colab": {
          "base_uri": "https://localhost:8080/"
        },
        "id": "Ojo7UJOdYrfy",
        "outputId": "bd2b1c12-3cec-4c04-9bbd-9ac2ed01d91b"
      },
      "execution_count": null,
      "outputs": [
        {
          "output_type": "stream",
          "name": "stderr",
          "text": [
            "No CUDA runtime is found, using CUDA_HOME='/usr/local/cuda'\n"
          ]
        }
      ]
    },
    {
      "cell_type": "markdown",
      "source": [
        "##Neural Network set-up"
      ],
      "metadata": {
        "id": "8VtorfIiTX_v"
      }
    },
    {
      "cell_type": "markdown",
      "source": [
        "###Functions"
      ],
      "metadata": {
        "id": "I0SgNyeUUzvg"
      }
    },
    {
      "cell_type": "markdown",
      "source": [
        "The following functions are for training and testing of the model"
      ],
      "metadata": {
        "id": "ZgqK7iLdTpZe"
      }
    },
    {
      "cell_type": "code",
      "source": [
        "def train(model, device, train_loader, optimizer, epoch, criterion):\n",
        "    \"\"\"Train the model.\"\"\"\n",
        "\n",
        "    model.train()\n",
        "\n",
        "    for batch_idx, (data, target) in enumerate(train_loader):\n",
        "        data, target = data.to(device), target.to(device)\n",
        "        optimizer.zero_grad()\n",
        "        output = model(data).squeeze()\n",
        "        loss = criterion(output, target)\n",
        "        loss.backward()\n",
        "        optimizer.step()\n",
        "        if epoch % 4 == 0 and batch_idx % 500 == 0:\n",
        "            print(\n",
        "                f\"Train Epoch: {epoch + 1} [{batch_idx}/{len(train_loader.dataset) // len(data)}\"\n",
        "                f\" ({100.0 * batch_idx / len(train_loader):.0f}%)]{'':5}\"\n",
        "                f\"\\tLoss: {loss.item():.6f}\"\n",
        "            )"
      ],
      "metadata": {
        "id": "1CAYntD1Y3jm"
      },
      "execution_count": null,
      "outputs": []
    },
    {
      "cell_type": "code",
      "source": [
        "def test(model, device, test_loader, epoch, criterion):\n",
        "    \"\"\"Test the model.\"\"\"\n",
        "\n",
        "    model.eval()\n",
        "    test_loss = 0\n",
        "    correct = 0\n",
        "\n",
        "    with torch.no_grad():\n",
        "        for data, target in tqdm(test_loader, disable=epoch % 4 != 0):\n",
        "            data, target = data.to(device), target.to(device)\n",
        "            output = model(data).squeeze()\n",
        "            test_loss += criterion(output, target).item()  # sum up batch loss\n",
        "            pred = output.argmax(dim=1, keepdim=True)  # get the index of the max log-probability\n",
        "            correct += pred.eq(target.view_as(pred)).sum().item()\n",
        "\n",
        "    test_loss /= len(test_loader.dataset)\n",
        "\n",
        "    if epoch % 4 == 0:\n",
        "        print(\n",
        "            f\"Test set: Average loss: {test_loss:.4f}, \"\n",
        "            \"Accuracy: \"\n",
        "            f\"{correct}/{len(test_loader.dataset)} \"\n",
        "            f\"({100.0 * correct / len(test_loader.dataset):.0f}%)\"\n",
        "        )\n",
        "\n",
        "    return test_loss"
      ],
      "metadata": {
        "id": "6Evn3rn9Y-zp"
      },
      "execution_count": null,
      "outputs": []
    },
    {
      "cell_type": "code",
      "source": [
        "def manage_dataset(train_kwargs, test_kwargs):\n",
        "    \"\"\"Get training and test parts of MNIST data-set.\"\"\"\n",
        "\n",
        "    transform = transforms.Compose(\n",
        "        [\n",
        "            transforms.ToTensor(),\n",
        "            transforms.Normalize((0.1307,), (0.3081,)),\n",
        "            transforms.Lambda(torch.flatten),\n",
        "        ]\n",
        "    )\n",
        "\n",
        "    # Manage data-sets\n",
        "    dataset1 = datasets.MNIST(\"./data\", train=True, download=True, transform=transform)\n",
        "    dataset2 = datasets.MNIST(\"./data\", train=False, transform=transform)\n",
        "    train_loader = torch.utils.data.DataLoader(dataset1, **train_kwargs)\n",
        "    test_loader = torch.utils.data.DataLoader(dataset2, **test_kwargs)\n",
        "\n",
        "    return train_loader, test_loader"
      ],
      "metadata": {
        "id": "M4hM76r_ZFtW"
      },
      "execution_count": null,
      "outputs": []
    },
    {
      "cell_type": "markdown",
      "source": [
        "The following function is used to test the model, it can be done either using FHE execution or with FHE simulation  (i.e., on clear data).\n",
        "\n",
        "Evaluating models using FHE simulation is a very good habit to have when working with Concrete ML since it allows to check several aspects without having to wait for long FHE computations:\n",
        "- the impact of the FHE execution on the accuracy\n",
        "- the bit-widths of intermediate values, which impact FHE execution time"
      ],
      "metadata": {
        "id": "sf8oUSUwe-fl"
      }
    },
    {
      "cell_type": "code",
      "source": [
        "import time\n",
        "\n",
        "def compile_and_test(\n",
        "    model,\n",
        "    use_simulation,\n",
        "    test_data,\n",
        "    test_data_length,\n",
        "    test_target,\n",
        "    show_mlir,\n",
        "    current_index,\n",
        "):\n",
        "    # Compile the QAT model and test\n",
        "    configuration = Configuration(\n",
        "        enable_unsafe_features=True,  # This is for our tests only, never use that in prod\n",
        "        use_insecure_key_cache=True,  # This is for our tests only, never use that in prod\n",
        "        insecure_key_cache_location=\"/tmp/keycache\",\n",
        "    )\n",
        "\n",
        "    if use_simulation:\n",
        "        print(f\"\\n{current_index}. Compiling with the FHE simulation\")\n",
        "    else:\n",
        "        print(f\"\\n{current_index}. Compiling in FHE\")\n",
        "\n",
        "    q_module = compile_brevitas_qat_model(\n",
        "        model,\n",
        "        test_data,\n",
        "        configuration=configuration,\n",
        "        show_mlir=show_mlir,\n",
        "    )\n",
        "\n",
        "    # Check max bit-width\n",
        "    max_bit_width = q_module.fhe_circuit.graph.maximum_integer_bit_width()\n",
        "    #print(max_bit_width)\n",
        "\n",
        "    if max_bit_width > 8:\n",
        "        raise Exception(\n",
        "            f\"Too large bit-width ({max_bit_width}): training this network resulted in an \"\n",
        "            \"accumulator size that is too large. Possible solutions are:\"\n",
        "            \"    - this network should, on average, have 8bit accumulators. In your case an unlucky\"\n",
        "            f\"initialization resulted in {max_bit_width} accumulators. You can try to train the \"\n",
        "            \"network again\"\n",
        "            \"    - reduce the sparsity to reduce the number of active neuron connections\"\n",
        "            \"    - if the weight and activation bit-width is more than 2, you can try to reduce one\"\n",
        "            \"or both to a lower value\"\n",
        "        )\n",
        "\n",
        "    # Check the accuracy\n",
        "    if use_simulation:\n",
        "        print(\n",
        "            f\"\\n{current_index + 1}. Checking accuracy with the FHE simulation mode \"\n",
        "            f\"(length {test_data_length})\"\n",
        "        )\n",
        "    else:\n",
        "        print(f\"\\n{current_index + 1}. Checking accuracy in FHE (length {test_data_length})\")\n",
        "\n",
        "    # Key generation\n",
        "    if not use_simulation:\n",
        "        q_module.fhe_circuit.keygen()\n",
        "\n",
        "    correct_fhe = 0\n",
        "\n",
        "    # Reduce the test data, since very slow in FHE\n",
        "    reduced_test_data = test_data[0:test_data_length, :]\n",
        "    test_target = test_target[0:test_data_length, :]\n",
        "\n",
        "    fhe_mode = \"simulate\" if use_simulation else \"execute\"\n",
        "    t1 = time.perf_counter()\n",
        "    prediction = q_module.forward(reduced_test_data, fhe=fhe_mode)\n",
        "    t2 = time.perf_counter()\n",
        "    print(\"Time taken: \",t2-t1)\n",
        "\n",
        "    correct_fhe = (np.argmax(prediction, axis=1) == test_target.ravel()).sum()\n",
        "\n",
        "    # Final accuracy\n",
        "    return correct_fhe, reduced_test_data.shape[0], max_bit_width"
      ],
      "metadata": {
        "id": "-Med4F82ebrM"
      },
      "execution_count": null,
      "outputs": []
    },
    {
      "cell_type": "markdown",
      "source": [
        "### Settings\n",
        "\n",
        "Setting the different parameters of the model and loading the dataset."
      ],
      "metadata": {
        "id": "smta4V-se52e"
      }
    },
    {
      "cell_type": "code",
      "source": [
        "# Options: the most important ones\n",
        "epochs = 20\n",
        "sparsity = 4\n",
        "quantization_bits = 2\n",
        "do_training = True\n",
        "save_model = False\n",
        "\n",
        "# Options: can be changed\n",
        "lr = 0.02\n",
        "gamma = 0.33\n",
        "test_data_length_reduced = 2  # This is notably the length of the computation in FHE\n",
        "test_data_length_full = 10000\n",
        "\n",
        "# Options: no real reason to change\n",
        "show_mlir = False\n",
        "batch_size = 32\n",
        "test_batch_size = 32\n",
        "use_cuda_if_available = True\n",
        "seed = None\n",
        "criterion = nn.CrossEntropyLoss()"
      ],
      "metadata": {
        "id": "YX8iQhFNezF8"
      },
      "execution_count": null,
      "outputs": []
    },
    {
      "cell_type": "markdown",
      "source": [
        "Seeding if we want to, to try to make everything as reproducible as possible."
      ],
      "metadata": {
        "id": "wi6LNJorfM01"
      }
    },
    {
      "cell_type": "code",
      "source": [
        "# Seeding\n",
        "if seed is None:\n",
        "    seed = np.random.randint(0, 2**32 - 1)\n",
        "\n",
        "print(f\"\\nUsing seed {seed}\\n\")\n",
        "torch.manual_seed(seed);"
      ],
      "metadata": {
        "colab": {
          "base_uri": "https://localhost:8080/"
        },
        "id": "XWcmgVgVfN1v",
        "outputId": "d50cc381-06f8-41bd-8305-cb0dff05a440"
      },
      "execution_count": null,
      "outputs": [
        {
          "output_type": "stream",
          "name": "stdout",
          "text": [
            "\n",
            "Using seed 2926655560\n",
            "\n"
          ]
        }
      ]
    },
    {
      "cell_type": "code",
      "source": [
        "seed = 2926655560\n",
        "print(f\"\\nUsing seed {seed}\\n\")\n",
        "torch.manual_seed(seed);"
      ],
      "metadata": {
        "colab": {
          "base_uri": "https://localhost:8080/"
        },
        "id": "E6xGFUIo7dUE",
        "outputId": "54d571fa-960f-4a3a-ce09-0300ec92197f"
      },
      "execution_count": null,
      "outputs": [
        {
          "output_type": "stream",
          "name": "stdout",
          "text": [
            "\n",
            "Using seed 2926655560\n",
            "\n"
          ]
        }
      ]
    },
    {
      "cell_type": "markdown",
      "source": [
        "Settings few things for the training."
      ],
      "metadata": {
        "id": "BuSBXbpofXvx"
      }
    },
    {
      "cell_type": "code",
      "source": [
        "# Training and test arguments\n",
        "train_kwargs = {\"batch_size\": batch_size}\n",
        "test_kwargs = {\"batch_size\": test_batch_size}\n",
        "\n",
        "# Cuda management\n",
        "use_cuda = torch.cuda.is_available() and use_cuda_if_available\n",
        "device = torch.device(\"cuda\" if use_cuda else \"cpu\")\n",
        "\n",
        "if use_cuda:\n",
        "    cuda_kwargs = {\"num_workers\": 1, \"pin_memory\": True, \"shuffle\": True}\n",
        "    train_kwargs.update(cuda_kwargs)\n",
        "    test_kwargs.update(cuda_kwargs)\n",
        "\n",
        "print(f\"\\nUsing {device} device\\n\")"
      ],
      "metadata": {
        "colab": {
          "base_uri": "https://localhost:8080/"
        },
        "id": "c9ZO_BZ1fVwR",
        "outputId": "ddfffa3e-d655-4464-ffd5-ea4203986bc0"
      },
      "execution_count": null,
      "outputs": [
        {
          "output_type": "stream",
          "name": "stdout",
          "text": [
            "\n",
            "Using cpu device\n",
            "\n"
          ]
        }
      ]
    },
    {
      "cell_type": "markdown",
      "source": [
        "Managing the MNIST data set, and splitting it into a\n",
        "train and testing set."
      ],
      "metadata": {
        "id": "SNK4QkAHfk1o"
      }
    },
    {
      "cell_type": "code",
      "source": [
        "# Manage data-set\n",
        "train_loader, test_loader = manage_dataset(train_kwargs, test_kwargs)\n",
        "img_size = train_loader.dataset.data[0].shape[0]"
      ],
      "metadata": {
        "colab": {
          "base_uri": "https://localhost:8080/"
        },
        "id": "h1gvoz25fbh8",
        "outputId": "b0acdc6c-03ee-4af1-d6f8-2fa25dc61f2c"
      },
      "execution_count": null,
      "outputs": [
        {
          "output_type": "stream",
          "name": "stdout",
          "text": [
            "Downloading http://yann.lecun.com/exdb/mnist/train-images-idx3-ubyte.gz\n",
            "Downloading http://yann.lecun.com/exdb/mnist/train-images-idx3-ubyte.gz to ./data/MNIST/raw/train-images-idx3-ubyte.gz\n"
          ]
        },
        {
          "output_type": "stream",
          "name": "stderr",
          "text": [
            "100%|██████████| 9912422/9912422 [00:00<00:00, 248371862.89it/s]\n"
          ]
        },
        {
          "output_type": "stream",
          "name": "stdout",
          "text": [
            "Extracting ./data/MNIST/raw/train-images-idx3-ubyte.gz to ./data/MNIST/raw\n",
            "\n",
            "Downloading http://yann.lecun.com/exdb/mnist/train-labels-idx1-ubyte.gz\n",
            "Downloading http://yann.lecun.com/exdb/mnist/train-labels-idx1-ubyte.gz to ./data/MNIST/raw/train-labels-idx1-ubyte.gz\n"
          ]
        },
        {
          "output_type": "stream",
          "name": "stderr",
          "text": [
            "100%|██████████| 28881/28881 [00:00<00:00, 19203502.51it/s]"
          ]
        },
        {
          "output_type": "stream",
          "name": "stdout",
          "text": [
            "Extracting ./data/MNIST/raw/train-labels-idx1-ubyte.gz to ./data/MNIST/raw\n",
            "\n",
            "Downloading http://yann.lecun.com/exdb/mnist/t10k-images-idx3-ubyte.gz\n"
          ]
        },
        {
          "output_type": "stream",
          "name": "stderr",
          "text": [
            "\n"
          ]
        },
        {
          "output_type": "stream",
          "name": "stdout",
          "text": [
            "Downloading http://yann.lecun.com/exdb/mnist/t10k-images-idx3-ubyte.gz to ./data/MNIST/raw/t10k-images-idx3-ubyte.gz\n"
          ]
        },
        {
          "output_type": "stream",
          "name": "stderr",
          "text": [
            "100%|██████████| 1648877/1648877 [00:00<00:00, 69748990.43it/s]"
          ]
        },
        {
          "output_type": "stream",
          "name": "stdout",
          "text": [
            "Extracting ./data/MNIST/raw/t10k-images-idx3-ubyte.gz to ./data/MNIST/raw\n",
            "\n",
            "Downloading http://yann.lecun.com/exdb/mnist/t10k-labels-idx1-ubyte.gz\n"
          ]
        },
        {
          "output_type": "stream",
          "name": "stderr",
          "text": [
            "\n"
          ]
        },
        {
          "output_type": "stream",
          "name": "stdout",
          "text": [
            "Downloading http://yann.lecun.com/exdb/mnist/t10k-labels-idx1-ubyte.gz to ./data/MNIST/raw/t10k-labels-idx1-ubyte.gz\n"
          ]
        },
        {
          "output_type": "stream",
          "name": "stderr",
          "text": [
            "100%|██████████| 4542/4542 [00:00<00:00, 13925825.12it/s]"
          ]
        },
        {
          "output_type": "stream",
          "name": "stdout",
          "text": [
            "Extracting ./data/MNIST/raw/t10k-labels-idx1-ubyte.gz to ./data/MNIST/raw\n",
            "\n"
          ]
        },
        {
          "output_type": "stream",
          "name": "stderr",
          "text": [
            "\n"
          ]
        }
      ]
    },
    {
      "cell_type": "markdown",
      "source": [
        "## QAT model training\n",
        "\n",
        "The model is defined in `model.py`."
      ],
      "metadata": {
        "id": "mC6OoReBfseY"
      }
    },
    {
      "cell_type": "code",
      "source": [
        "# Model definition\n",
        "model = MNISTQATModel(quantization_bits, quantization_bits)\n",
        "model = model.to(device)"
      ],
      "metadata": {
        "id": "SWQNQ4ITfnQy"
      },
      "execution_count": null,
      "outputs": []
    },
    {
      "cell_type": "markdown",
      "source": [
        "Below, depending on the value of do_training, you can either run the quantization-aware training, which might be time-consuming, or load a pretrained model by setting `do_training = False`."
      ],
      "metadata": {
        "id": "NeM2FC8Mf4Dm"
      }
    },
    {
      "cell_type": "code",
      "source": [
        "# Training part\n",
        "print(\n",
        "    f\"Performing MNIST task with {quantization_bits}-bits in quantization and a \"\n",
        "    f\"sparsity of {sparsity}.\"\n",
        ")\n",
        "\n",
        "if do_training:\n",
        "\n",
        "    model.prune(sparsity, True)\n",
        "\n",
        "    print(\"\\n1. Training\")\n",
        "    optimizer = optim.Adam(model.parameters(), lr=lr, weight_decay=0.0001)\n",
        "    scheduler = StepLR(optimizer, step_size=1, gamma=gamma)\n",
        "    loss_values = []\n",
        "\n",
        "    for epoch in range(epochs):\n",
        "        train(model, device, train_loader, optimizer, epoch, criterion)\n",
        "        cur_loss = test(model, device, test_loader, epoch, criterion)\n",
        "\n",
        "        scheduler.step()\n",
        "\n",
        "        loss_values.append(cur_loss)\n",
        "\n",
        "    model.prune(sparsity, False)\n",
        "\n",
        "    # Plot the loss\n",
        "    fig = plt.figure()\n",
        "    plt.plot(loss_values)\n",
        "    fig.suptitle(\"Loss during QAT\")\n",
        "    plt.xlabel(\"Epochs\")\n",
        "    plt.ylabel(\"Loss\")\n",
        "    plt.xticks(range(len(loss_values)))\n",
        "\n",
        "    if save_model:\n",
        "        # Export to ONNX\n",
        "        print(\"\\n2. Exporting to ONNX and saving the Brevitas model\")\n",
        "        inp = torch.rand((1, img_size * img_size)).to(device)\n",
        "        torch.onnx.export(model, inp, \"mnist.qat.onnx\", opset_version=14)\n",
        "        torch.save(model.state_dict(), \"state_dict.pt\")\n",
        "else:\n",
        "    print(\"\\n1. Loading pre-trained model\")\n",
        "    # Ensure that \"state_dict.pt\" is pulled through GIT LFS\n",
        "    checkpoint = torch.load(\"state_dict.pt\", map_location=device)\n",
        "    model.load_state_dict(checkpoint)"
      ],
      "metadata": {
        "colab": {
          "base_uri": "https://localhost:8080/",
          "height": 1000
        },
        "id": "hyNXn2d-f1Lw",
        "outputId": "1f5af0ec-2d01-4051-ada8-df28a71f4ed1"
      },
      "execution_count": null,
      "outputs": [
        {
          "output_type": "stream",
          "name": "stdout",
          "text": [
            "Performing MNIST task with 2-bits in quantization and a sparsity of 4.\n",
            "\n",
            "1. Training\n",
            "Train Epoch: 1 [0/1875 (0%)]     \tLoss: 8.985333\n",
            "Train Epoch: 1 [500/1875 (27%)]     \tLoss: 1.019910\n",
            "Train Epoch: 1 [1000/1875 (53%)]     \tLoss: 0.630351\n",
            "Train Epoch: 1 [1500/1875 (80%)]     \tLoss: 0.353047\n"
          ]
        },
        {
          "output_type": "stream",
          "name": "stderr",
          "text": [
            "100%|██████████| 313/313 [00:14<00:00, 21.78it/s]\n"
          ]
        },
        {
          "output_type": "stream",
          "name": "stdout",
          "text": [
            "Test set: Average loss: 0.0206, Accuracy: 8051/10000 (81%)\n",
            "Train Epoch: 5 [0/1875 (0%)]     \tLoss: 0.149230\n",
            "Train Epoch: 5 [500/1875 (27%)]     \tLoss: 0.573497\n",
            "Train Epoch: 5 [1000/1875 (53%)]     \tLoss: 0.455737\n",
            "Train Epoch: 5 [1500/1875 (80%)]     \tLoss: 0.200558\n"
          ]
        },
        {
          "output_type": "stream",
          "name": "stderr",
          "text": [
            "100%|██████████| 313/313 [00:07<00:00, 43.14it/s]\n"
          ]
        },
        {
          "output_type": "stream",
          "name": "stdout",
          "text": [
            "Test set: Average loss: 0.0120, Accuracy: 8875/10000 (89%)\n",
            "Train Epoch: 9 [0/1875 (0%)]     \tLoss: 0.204037\n",
            "Train Epoch: 9 [500/1875 (27%)]     \tLoss: 0.529180\n",
            "Train Epoch: 9 [1000/1875 (53%)]     \tLoss: 0.338629\n",
            "Train Epoch: 9 [1500/1875 (80%)]     \tLoss: 0.123368\n"
          ]
        },
        {
          "output_type": "stream",
          "name": "stderr",
          "text": [
            "100%|██████████| 313/313 [00:07<00:00, 43.67it/s]\n"
          ]
        },
        {
          "output_type": "stream",
          "name": "stdout",
          "text": [
            "Test set: Average loss: 0.0097, Accuracy: 9069/10000 (91%)\n",
            "Train Epoch: 13 [0/1875 (0%)]     \tLoss: 0.232755\n",
            "Train Epoch: 13 [500/1875 (27%)]     \tLoss: 0.721928\n",
            "Train Epoch: 13 [1000/1875 (53%)]     \tLoss: 0.586523\n",
            "Train Epoch: 13 [1500/1875 (80%)]     \tLoss: 0.152091\n"
          ]
        },
        {
          "output_type": "stream",
          "name": "stderr",
          "text": [
            "100%|██████████| 313/313 [00:07<00:00, 43.70it/s]\n"
          ]
        },
        {
          "output_type": "stream",
          "name": "stdout",
          "text": [
            "Test set: Average loss: 0.0099, Accuracy: 9058/10000 (91%)\n",
            "Train Epoch: 17 [0/1875 (0%)]     \tLoss: 0.135512\n",
            "Train Epoch: 17 [500/1875 (27%)]     \tLoss: 0.592692\n",
            "Train Epoch: 17 [1000/1875 (53%)]     \tLoss: 0.535859\n",
            "Train Epoch: 17 [1500/1875 (80%)]     \tLoss: 0.188149\n"
          ]
        },
        {
          "output_type": "stream",
          "name": "stderr",
          "text": [
            "100%|██████████| 313/313 [00:10<00:00, 30.47it/s]\n"
          ]
        },
        {
          "output_type": "stream",
          "name": "stdout",
          "text": [
            "Test set: Average loss: 0.0099, Accuracy: 9058/10000 (91%)\n"
          ]
        },
        {
          "output_type": "display_data",
          "data": {
            "text/plain": [
              "<Figure size 640x480 with 1 Axes>"
            ],
            "image/png": "[encoded data removed]"
          },
          "metadata": {}
        }
      ]
    },
    {
      "cell_type": "markdown",
      "source": [
        "We prepare the ground truth, for final check of the model."
      ],
      "metadata": {
        "id": "IKQtU5aZnRmp"
      }
    },
    {
      "cell_type": "code",
      "source": [
        "# Prepare tests\n",
        "test_data = np.zeros((len(test_loader.dataset), img_size * img_size))\n",
        "test_target = np.zeros((len(test_loader.dataset), 1))\n",
        "idx = 0\n",
        "\n",
        "for data, target in tqdm(test_loader):\n",
        "    target_np = target.cpu().numpy()\n",
        "    for idx_batch, im in enumerate(data.numpy()):\n",
        "        test_data[idx] = im\n",
        "        test_target[idx] = target_np[idx_batch]\n",
        "        idx += 1"
      ],
      "metadata": {
        "colab": {
          "base_uri": "https://localhost:8080/"
        },
        "id": "rtReS5yZf_Bi",
        "outputId": "9973f9bd-0e24-4bc8-b923-445339bcac18"
      },
      "execution_count": null,
      "outputs": [
        {
          "output_type": "stream",
          "name": "stderr",
          "text": [
            "100%|██████████| 313/313 [00:03<00:00, 84.07it/s]\n"
          ]
        }
      ]
    },
    {
      "cell_type": "markdown",
      "source": [
        "## Measuring accuracy"
      ],
      "metadata": {
        "id": "kAkTtGbGUnPq"
      }
    },
    {
      "cell_type": "markdown",
      "source": [
        "### Measuring accuracy with FHE simulation and FHE execution\n",
        "\n",
        "Finally, we measure:\n",
        "- accuracy with FHE simulation for the full test set\n",
        "- accuracy with FHE simulation for the reduced test set\n",
        "- accuracy in FHE for the reduced test set   \n",
        "\n",
        "and we check that accuracy with FHE simulation and in FHE are equivalent on the reduced test set.\n",
        "\n",
        "Running FHE computations on a too large reduced test set may be prohibitive since we're 100% on CPU."
      ],
      "metadata": {
        "id": "xfBF5QlznYur"
      }
    },
    {
      "cell_type": "code",
      "source": [
        "# Test in the FHE simulation and in real FHE computation\n",
        "accuracy = {}\n",
        "current_index = 3\n",
        "\n",
        "for use_simulation, use_full_dataset in [(True, True), (True, False), (False, False)]:\n",
        "    test_data_length = test_data_length_full if use_full_dataset else test_data_length_reduced\n",
        "\n",
        "    correct_fhe, test_data_shape_0, max_bit_width = compile_and_test(\n",
        "        model.cpu(),\n",
        "        use_simulation,\n",
        "        test_data,\n",
        "        test_data_length,\n",
        "        test_target,\n",
        "        show_mlir,\n",
        "        current_index,\n",
        "    )\n",
        "\n",
        "    current_index += 2\n",
        "    current_accuracy = correct_fhe / test_data_shape_0\n",
        "\n",
        "    print(\n",
        "        f\"Accuracy in {'Simulation' if use_simulation else 'FHE'} with length {test_data_length}: \"\n",
        "        f\"{correct_fhe}/{test_data_shape_0} = \"\n",
        "        f\"{current_accuracy:.4f}, in {max_bit_width}-bits\"\n",
        "    )\n",
        "\n",
        "    if (use_simulation, use_full_dataset) == (True, True):\n",
        "        accuracy[\"FHE Simulation full\"] = current_accuracy\n",
        "    elif (use_simulation, use_full_dataset) == (True, False):\n",
        "        accuracy[\"FHE simulation short\"] = current_accuracy\n",
        "    else:\n",
        "        assert (use_simulation, use_full_dataset) == (False, False)\n",
        "        accuracy[\"FHE short\"] = current_accuracy"
      ],
      "metadata": {
        "colab": {
          "base_uri": "https://localhost:8080/"
        },
        "id": "mkeELB7hmzsX",
        "outputId": "71e22024-7486-43e5-df04-6dfdbb68733b"
      },
      "execution_count": null,
      "outputs": [
        {
          "output_type": "stream",
          "name": "stdout",
          "text": [
            "\n",
            "3. Compiling with the FHE simulation\n",
            "\n",
            "4. Checking accuracy with the FHE simulation mode (length 10000)\n",
            "Accuracy in Simulation with length 10000: 9058/10000 = 0.9058, in 6-bits\n",
            "\n",
            "5. Compiling with the FHE simulation\n",
            "\n",
            "6. Checking accuracy with the FHE simulation mode (length 2)\n",
            "Accuracy in Simulation with length 2: 2/2 = 1.0000, in 6-bits\n",
            "\n",
            "7. Compiling in FHE\n",
            "\n",
            "8. Checking accuracy in FHE (length 2)\n",
            "Accuracy in FHE with length 2: 2/2 = 1.0000, in 6-bits\n"
          ]
        }
      ]
    },
    {
      "cell_type": "markdown",
      "source": [
        "Checking accuracy and time for FHE simulation and FHE execution for reduced datapoints"
      ],
      "metadata": {
        "id": "p7IyOPdSPIzs"
      }
    },
    {
      "cell_type": "code",
      "source": [
        "\n",
        "# Test in the FHE simulation and in real FHE computation\n",
        "accuracy = {}\n",
        "current_index = 3\n",
        "\n",
        "for use_simulation, use_full_dataset in [(True, False), (False, False)]:\n",
        "    test_data_length = test_data_length_full if use_full_dataset else test_data_length_reduced\n",
        "\n",
        "    correct_fhe, test_data_shape_0, max_bit_width = compile_and_test(\n",
        "        model.cpu(),\n",
        "        use_simulation,\n",
        "        test_data,\n",
        "        test_data_length,\n",
        "        test_target,\n",
        "        show_mlir,\n",
        "        current_index,\n",
        "    )\n",
        "\n",
        "    current_index += 2\n",
        "    current_accuracy = correct_fhe / test_data_shape_0\n",
        "\n",
        "    print(\n",
        "        f\"Accuracy in {'Simulation' if use_simulation else 'FHE'} with length {test_data_length}: \"\n",
        "        f\"{correct_fhe}/{test_data_shape_0} = \"\n",
        "        f\"{current_accuracy:.4f}, in {max_bit_width}-bits\"\n",
        "    )\n",
        "\n",
        "    if (use_simulation, use_full_dataset) == (True, False):\n",
        "        accuracy[\"FHE simulation short\"] = current_accuracy\n",
        "    else:\n",
        "        assert (use_simulation, use_full_dataset) == (False, False)\n",
        "        accuracy[\"FHE short\"] = current_accuracy"
      ],
      "metadata": {
        "colab": {
          "base_uri": "https://localhost:8080/"
        },
        "id": "lyn-ALgfa83y",
        "outputId": "d91f1604-dfe9-42c5-f23d-8d217126b929"
      },
      "execution_count": null,
      "outputs": [
        {
          "output_type": "stream",
          "name": "stdout",
          "text": [
            "\n",
            "3. Compiling with the FHE simulation\n",
            "\n",
            "4. Checking accuracy with the FHE simulation mode (length 2)\n",
            "Time taken:  0.018122289000075398\n",
            "Accuracy in Simulation with length 2: 2/2 = 1.0000, in 6-bits\n",
            "\n",
            "5. Compiling in FHE\n",
            "\n",
            "6. Checking accuracy in FHE (length 2)\n",
            "Time taken:  182.96037620200013\n",
            "Accuracy in FHE with length 2: 2/2 = 1.0000, in 6-bits\n"
          ]
        }
      ]
    },
    {
      "cell_type": "markdown",
      "source": [
        "Checking accuracy and time for FHE-disable (without FHE) for reduced dataset"
      ],
      "metadata": {
        "id": "0fAu9p4TPS8h"
      }
    },
    {
      "cell_type": "code",
      "source": [
        "def compile_and_test(\n",
        "    model,\n",
        "    use_simulation,\n",
        "    test_data,\n",
        "    test_data_length,\n",
        "    test_target,\n",
        "    show_mlir,\n",
        "    current_index,\n",
        "):\n",
        "    # Compile the QAT model and test\n",
        "    configuration = Configuration(\n",
        "        enable_unsafe_features=True,  # This is for our tests only, never use that in prod\n",
        "        use_insecure_key_cache=True,  # This is for our tests only, never use that in prod\n",
        "        insecure_key_cache_location=\"/tmp/keycache\",\n",
        "    )\n",
        "\n",
        "    if use_simulation:\n",
        "        print(f\"\\n{current_index}. Compiling with the FHE simulation\")\n",
        "    else:\n",
        "        print(f\"\\n{current_index}. Compiling in FHE\")\n",
        "\n",
        "    q_module = compile_brevitas_qat_model(\n",
        "        model,\n",
        "        test_data,\n",
        "        configuration=configuration,\n",
        "        show_mlir=show_mlir,\n",
        "    )\n",
        "\n",
        "    # Check max bit-width\n",
        "    max_bit_width = q_module.fhe_circuit.graph.maximum_integer_bit_width()\n",
        "    #print(max_bit_width)\n",
        "\n",
        "    if max_bit_width > 8:\n",
        "        raise Exception(\n",
        "            f\"Too large bit-width ({max_bit_width}): training this network resulted in an \"\n",
        "            \"accumulator size that is too large. Possible solutions are:\"\n",
        "            \"    - this network should, on average, have 8bit accumulators. In your case an unlucky\"\n",
        "            f\"initialization resulted in {max_bit_width} accumulators. You can try to train the \"\n",
        "            \"network again\"\n",
        "            \"    - reduce the sparsity to reduce the number of active neuron connections\"\n",
        "            \"    - if the weight and activation bit-width is more than 2, you can try to reduce one\"\n",
        "            \"or both to a lower value\"\n",
        "        )\n",
        "\n",
        "    # Check the accuracy\n",
        "    if use_simulation:\n",
        "        print(\n",
        "            f\"\\n{current_index + 1}. Checking accuracy with the FHE simulation mode \"\n",
        "            f\"(length {test_data_length})\"\n",
        "        )\n",
        "    else:\n",
        "        print(f\"\\n{current_index + 1}. Checking accuracy in FHE (length {test_data_length})\")\n",
        "\n",
        "    # Key generation\n",
        "    if not use_simulation:\n",
        "        q_module.fhe_circuit.keygen()\n",
        "\n",
        "    correct_fhe = 0\n",
        "\n",
        "    # Reduce the test data, since very slow in FHE\n",
        "    reduced_test_data = test_data[0:test_data_length, :]\n",
        "    test_target = test_target[0:test_data_length, :]\n",
        "\n",
        "    fhe_mode = \"disable\" if use_simulation else \"execute\"\n",
        "    t1 = time.perf_counter()\n",
        "    prediction = q_module.forward(reduced_test_data, fhe=fhe_mode)\n",
        "    t2 = time.perf_counter()\n",
        "    print(\"Time taken: \",t2-t1)\n",
        "\n",
        "    correct_fhe = (np.argmax(prediction, axis=1) == test_target.ravel()).sum()\n",
        "\n",
        "    # Final accuracy\n",
        "    return correct_fhe, reduced_test_data.shape[0], max_bit_width"
      ],
      "metadata": {
        "id": "rj9_SZ8kmXtO"
      },
      "execution_count": null,
      "outputs": []
    },
    {
      "cell_type": "code",
      "source": [
        "# Test in the FHE simulation and in real FHE computation\n",
        "accuracy = {}\n",
        "current_index = 3\n",
        "\n",
        "for use_simulation, use_full_dataset in [(True, False)]:\n",
        "    test_data_length = test_data_length_full if use_full_dataset else test_data_length_reduced\n",
        "\n",
        "    correct_fhe, test_data_shape_0, max_bit_width = compile_and_test(\n",
        "        model.cpu(),\n",
        "        use_simulation,\n",
        "        test_data,\n",
        "        test_data_length,\n",
        "        test_target,\n",
        "        show_mlir,\n",
        "        current_index,\n",
        "    )\n",
        "\n",
        "    current_index += 2\n",
        "    current_accuracy = correct_fhe / test_data_shape_0\n",
        "\n",
        "    print(\n",
        "        f\"Accuracy in {'Simulation' if use_simulation else 'FHE'} with length {test_data_length}: \"\n",
        "        f\"{correct_fhe}/{test_data_shape_0} = \"\n",
        "        f\"{current_accuracy:.4f}, in {max_bit_width}-bits\"\n",
        "    )\n",
        "\n",
        "    if (use_simulation, use_full_dataset) == (True, False):\n",
        "        accuracy[\"FHE simulation short\"] = current_accuracy"
      ],
      "metadata": {
        "colab": {
          "base_uri": "https://localhost:8080/"
        },
        "id": "gEPB_X8cmqoS",
        "outputId": "d71acea7-1d4e-4030-cd43-472d5b31b168"
      },
      "execution_count": null,
      "outputs": [
        {
          "output_type": "stream",
          "name": "stdout",
          "text": [
            "\n",
            "3. Compiling with the FHE simulation\n",
            "\n",
            "4. Checking accuracy with the FHE simulation mode (length 2)\n",
            "Time taken:  0.05006195199985086\n",
            "Accuracy in Simulation with length 2: 2/2 = 1.0000, in 6-bits\n"
          ]
        }
      ]
    }
  ]
}