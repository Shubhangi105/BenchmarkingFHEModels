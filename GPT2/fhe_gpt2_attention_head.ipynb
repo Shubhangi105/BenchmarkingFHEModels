{
  "nbformat": 4,
  "nbformat_minor": 0,
  "metadata": {
    "colab": {
      "provenance": [],
      "toc_visible": true,
      "gpuType": "T4"
    },
    "kernelspec": {
      "name": "python3",
      "display_name": "Python 3"
    },
    "language_info": {
      "name": "python"
    },
    "accelerator": "GPU"
  },
  "cells": [
    {
      "cell_type": "markdown",
      "source": [
        "## Benchmarking GPT2 with FHE\n",
        "Benchmarking the performance of the GPT2 model when a single attention head is calculated under FHE. The notebook is inpired by Concrete ML's work in the same topic https://huggingface.co/blog/encrypted-llm."
      ],
      "metadata": {
        "id": "0rQCJwqCEKcF"
      }
    },
    {
      "cell_type": "code",
      "source": [
        "!pip install -U pip wheel setuptools\n",
        "!pip install concrete-ml"
      ],
      "metadata": {
        "colab": {
          "base_uri": "https://localhost:8080/",
          "height": 1000
        },
        "id": "xCw8oFauFCEj",
        "outputId": "482d7523-eaa1-454a-9a08-82a1bbc162af"
      },
      "execution_count": 1,
      "outputs": [
        {
          "output_type": "stream",
          "name": "stdout",
          "text": [
            "Requirement already satisfied: pip in /usr/local/lib/python3.10/dist-packages (23.1.2)\n",
            "Collecting pip\n",
            "  Downloading pip-24.0-py3-none-any.whl (2.1 MB)\n",
            "\u001b[2K     \u001b[90m━━━━━━━━━━━━━━━━━━━━━━━━━━━━━━━━━━━━━━━━\u001b[0m \u001b[32m2.1/2.1 MB\u001b[0m \u001b[31m15.2 MB/s\u001b[0m eta \u001b[36m0:00:00\u001b[0m\n",
            "\u001b[?25hRequirement already satisfied: wheel in /usr/local/lib/python3.10/dist-packages (0.42.0)\n",
            "Requirement already satisfied: setuptools in /usr/local/lib/python3.10/dist-packages (67.7.2)\n",
            "Collecting setuptools\n",
            "  Downloading setuptools-69.1.0-py3-none-any.whl (819 kB)\n",
            "\u001b[2K     \u001b[90m━━━━━━━━━━━━━━━━━━━━━━━━━━━━━━━━━━━━━━━━\u001b[0m \u001b[32m819.3/819.3 kB\u001b[0m \u001b[31m22.6 MB/s\u001b[0m eta \u001b[36m0:00:00\u001b[0m\n",
            "\u001b[?25hInstalling collected packages: setuptools, pip\n",
            "  Attempting uninstall: setuptools\n",
            "    Found existing installation: setuptools 67.7.2\n",
            "    Uninstalling setuptools-67.7.2:\n",
            "      Successfully uninstalled setuptools-67.7.2\n",
            "  Attempting uninstall: pip\n",
            "    Found existing installation: pip 23.1.2\n",
            "    Uninstalling pip-23.1.2:\n",
            "      Successfully uninstalled pip-23.1.2\n",
            "\u001b[31mERROR: pip's dependency resolver does not currently take into account all the packages that are installed. This behaviour is the source of the following dependency conflicts.\n",
            "ipython 7.34.0 requires jedi>=0.16, which is not installed.\u001b[0m\u001b[31m\n",
            "\u001b[0mSuccessfully installed pip-24.0 setuptools-69.1.0\n"
          ]
        },
        {
          "output_type": "display_data",
          "data": {
            "application/vnd.colab-display-data+json": {
              "pip_warning": {
                "packages": [
                  "_distutils_hack",
                  "pkg_resources",
                  "setuptools"
                ]
              }
            }
          },
          "metadata": {}
        },
        {
          "output_type": "stream",
          "name": "stdout",
          "text": [
            "Collecting concrete-ml\n",
            "  Downloading concrete_ml-1.4.1-py3-none-any.whl.metadata (13 kB)\n",
            "Collecting boto3<2.0.0,>=1.23.5 (from concrete-ml)\n",
            "  Downloading boto3-1.34.47-py3-none-any.whl.metadata (6.6 kB)\n",
            "Collecting brevitas==0.8.0 (from concrete-ml)\n",
            "  Downloading brevitas-0.8.0-py3-none-any.whl.metadata (6.1 kB)\n",
            "Collecting certifi==2023.07.22 (from concrete-ml)\n",
            "  Downloading certifi-2023.7.22-py3-none-any.whl.metadata (2.2 kB)\n",
            "Collecting concrete-python==2.5.1 (from concrete-ml)\n",
            "  Downloading concrete_python-2.5.1-cp310-cp310-manylinux_2_28_x86_64.whl.metadata (9.0 kB)\n",
            "Collecting fastapi<0.104.0,>=0.103.2 (from concrete-ml)\n",
            "  Downloading fastapi-0.103.2-py3-none-any.whl.metadata (24 kB)\n",
            "Collecting gitpython==3.1.41 (from concrete-ml)\n",
            "  Downloading GitPython-3.1.41-py3-none-any.whl.metadata (14 kB)\n",
            "Collecting hummingbird-ml==0.4.8 (from hummingbird-ml[onnx]==0.4.8->concrete-ml)\n",
            "  Downloading hummingbird_ml-0.4.8-py2.py3-none-any.whl.metadata (11 kB)\n",
            "Collecting numpy==1.23.5 (from concrete-ml)\n",
            "  Downloading numpy-1.23.5-cp310-cp310-manylinux_2_17_x86_64.manylinux2014_x86_64.whl.metadata (2.3 kB)\n",
            "Collecting onnx==1.13.1 (from concrete-ml)\n",
            "  Downloading onnx-1.13.1-cp310-cp310-manylinux_2_17_x86_64.manylinux2014_x86_64.whl.metadata (14 kB)\n",
            "Collecting onnxoptimizer==0.3.10 (from concrete-ml)\n",
            "  Downloading onnxoptimizer-0.3.10-cp310-cp310-manylinux_2_17_x86_64.manylinux2014_x86_64.whl.metadata (3.2 kB)\n",
            "Collecting onnxruntime==1.13.1 (from concrete-ml)\n",
            "  Downloading onnxruntime-1.13.1-cp310-cp310-manylinux_2_27_x86_64.whl.metadata (3.8 kB)\n",
            "Requirement already satisfied: protobuf==3.20.3 in /usr/local/lib/python3.10/dist-packages (from concrete-ml) (3.20.3)\n",
            "Collecting pytest-json-report==1.5.0 (from concrete-ml)\n",
            "  Downloading pytest_json_report-1.5.0-py3-none-any.whl (13 kB)\n",
            "Collecting scikit-learn==1.1.3 (from concrete-ml)\n",
            "  Downloading scikit_learn-1.1.3-cp310-cp310-manylinux_2_17_x86_64.manylinux2014_x86_64.whl.metadata (10 kB)\n",
            "Collecting scipy==1.10.1 (from concrete-ml)\n",
            "  Downloading scipy-1.10.1-cp310-cp310-manylinux_2_17_x86_64.manylinux2014_x86_64.whl.metadata (58 kB)\n",
            "\u001b[2K     \u001b[90m━━━━━━━━━━━━━━━━━━━━━━━━━━━━━━━━━━━━━━━━\u001b[0m \u001b[32m58.9/58.9 kB\u001b[0m \u001b[31m4.1 MB/s\u001b[0m eta \u001b[36m0:00:00\u001b[0m\n",
            "\u001b[?25hCollecting setuptools==65.6.3 (from concrete-ml)\n",
            "  Downloading setuptools-65.6.3-py3-none-any.whl.metadata (6.1 kB)\n",
            "Collecting skops==0.5.0 (from concrete-ml)\n",
            "  Downloading skops-0.5.0-py3-none-any.whl.metadata (5.4 kB)\n",
            "Collecting skorch==0.11.0 (from concrete-ml)\n",
            "  Downloading skorch-0.11.0-py3-none-any.whl (155 kB)\n",
            "\u001b[2K     \u001b[90m━━━━━━━━━━━━━━━━━━━━━━━━━━━━━━━━━━━━━━━━\u001b[0m \u001b[32m155.1/155.1 kB\u001b[0m \u001b[31m12.1 MB/s\u001b[0m eta \u001b[36m0:00:00\u001b[0m\n",
            "\u001b[?25hCollecting torch==1.13.1 (from concrete-ml)\n",
            "  Downloading torch-1.13.1-cp310-cp310-manylinux1_x86_64.whl.metadata (24 kB)\n",
            "Requirement already satisfied: tqdm<5.0.0,>=4.64.1 in /usr/local/lib/python3.10/dist-packages (from concrete-ml) (4.66.2)\n",
            "Requirement already satisfied: transformers<5.0.0,>=4.36.0 in /usr/local/lib/python3.10/dist-packages (from concrete-ml) (4.37.2)\n",
            "Collecting typing-extensions==4.5.0 (from concrete-ml)\n",
            "  Downloading typing_extensions-4.5.0-py3-none-any.whl.metadata (8.5 kB)\n",
            "Collecting uvicorn<0.22.0,>=0.21.0 (from concrete-ml)\n",
            "  Downloading uvicorn-0.21.1-py3-none-any.whl.metadata (6.3 kB)\n",
            "Collecting xgboost==1.6.2 (from concrete-ml)\n",
            "  Downloading xgboost-1.6.2-py3-none-manylinux2014_x86_64.whl.metadata (1.8 kB)\n",
            "Requirement already satisfied: packaging in /usr/local/lib/python3.10/dist-packages (from brevitas==0.8.0->concrete-ml) (23.2)\n",
            "Collecting dependencies==2.0.1 (from brevitas==0.8.0->concrete-ml)\n",
            "  Downloading dependencies-2.0.1-py2.py3-none-any.whl (15 kB)\n",
            "Requirement already satisfied: importlib-resources>=6.1 in /usr/local/lib/python3.10/dist-packages (from concrete-python==2.5.1->concrete-ml) (6.1.1)\n",
            "Requirement already satisfied: networkx>=2.6 in /usr/local/lib/python3.10/dist-packages (from concrete-python==2.5.1->concrete-ml) (3.2.1)\n",
            "Collecting z3-solver>=4.12 (from concrete-python==2.5.1->concrete-ml)\n",
            "  Downloading z3_solver-4.12.5.0-py2.py3-none-manylinux2014_x86_64.whl.metadata (732 bytes)\n",
            "Collecting gitdb<5,>=4.0.1 (from gitpython==3.1.41->concrete-ml)\n",
            "  Downloading gitdb-4.0.11-py3-none-any.whl.metadata (1.2 kB)\n",
            "Collecting dill (from hummingbird-ml==0.4.8->hummingbird-ml[onnx]==0.4.8->concrete-ml)\n",
            "  Downloading dill-0.3.8-py3-none-any.whl.metadata (10 kB)\n",
            "Collecting onnxconverter-common>=1.6.0 (from hummingbird-ml==0.4.8->hummingbird-ml[onnx]==0.4.8->concrete-ml)\n",
            "  Downloading onnxconverter_common-1.14.0-py2.py3-none-any.whl.metadata (4.2 kB)\n",
            "Requirement already satisfied: psutil in /usr/local/lib/python3.10/dist-packages (from hummingbird-ml==0.4.8->hummingbird-ml[onnx]==0.4.8->concrete-ml) (5.9.5)\n",
            "Collecting onnxmltools<=1.11.0,>=1.6.0 (from hummingbird-ml[onnx]==0.4.8->concrete-ml)\n",
            "  Downloading onnxmltools-1.11.0-py2.py3-none-any.whl (302 kB)\n",
            "\u001b[2K     \u001b[90m━━━━━━━━━━━━━━━━━━━━━━━━━━━━━━━━━━━━━━━━\u001b[0m \u001b[32m302.4/302.4 kB\u001b[0m \u001b[31m21.9 MB/s\u001b[0m eta \u001b[36m0:00:00\u001b[0m\n",
            "\u001b[?25hCollecting skl2onnx<=1.12.0,>=1.7.0 (from hummingbird-ml[onnx]==0.4.8->concrete-ml)\n",
            "  Downloading skl2onnx-1.12-py2.py3-none-any.whl.metadata (2.1 kB)\n",
            "Collecting coloredlogs (from onnxruntime==1.13.1->concrete-ml)\n",
            "  Downloading coloredlogs-15.0.1-py2.py3-none-any.whl (46 kB)\n",
            "\u001b[2K     \u001b[90m━━━━━━━━━━━━━━━━━━━━━━━━━━━━━━━━━━━━━━━━\u001b[0m \u001b[32m46.0/46.0 kB\u001b[0m \u001b[31m3.7 MB/s\u001b[0m eta \u001b[36m0:00:00\u001b[0m\n",
            "\u001b[?25hRequirement already satisfied: flatbuffers in /usr/local/lib/python3.10/dist-packages (from onnxruntime==1.13.1->concrete-ml) (23.5.26)\n",
            "Requirement already satisfied: sympy in /usr/local/lib/python3.10/dist-packages (from onnxruntime==1.13.1->concrete-ml) (1.12)\n",
            "Requirement already satisfied: pytest>=3.8.0 in /usr/local/lib/python3.10/dist-packages (from pytest-json-report==1.5.0->concrete-ml) (7.4.4)\n",
            "Collecting pytest-metadata (from pytest-json-report==1.5.0->concrete-ml)\n",
            "  Downloading pytest_metadata-3.1.1-py3-none-any.whl.metadata (8.6 kB)\n",
            "Requirement already satisfied: joblib>=1.0.0 in /usr/local/lib/python3.10/dist-packages (from scikit-learn==1.1.3->concrete-ml) (1.3.2)\n",
            "Requirement already satisfied: threadpoolctl>=2.0.0 in /usr/local/lib/python3.10/dist-packages (from scikit-learn==1.1.3->concrete-ml) (3.3.0)\n",
            "Requirement already satisfied: huggingface-hub>=0.10.1 in /usr/local/lib/python3.10/dist-packages (from skops==0.5.0->concrete-ml) (0.20.3)\n",
            "Requirement already satisfied: tabulate>=0.8.8 in /usr/local/lib/python3.10/dist-packages (from skops==0.5.0->concrete-ml) (0.9.0)\n",
            "Collecting nvidia-cuda-runtime-cu11==11.7.99 (from torch==1.13.1->concrete-ml)\n",
            "  Downloading nvidia_cuda_runtime_cu11-11.7.99-py3-none-manylinux1_x86_64.whl.metadata (1.6 kB)\n",
            "Collecting nvidia-cudnn-cu11==8.5.0.96 (from torch==1.13.1->concrete-ml)\n",
            "  Downloading nvidia_cudnn_cu11-8.5.0.96-2-py3-none-manylinux1_x86_64.whl.metadata (1.6 kB)\n",
            "Collecting nvidia-cublas-cu11==11.10.3.66 (from torch==1.13.1->concrete-ml)\n",
            "  Downloading nvidia_cublas_cu11-11.10.3.66-py3-none-manylinux1_x86_64.whl.metadata (1.6 kB)\n",
            "Collecting nvidia-cuda-nvrtc-cu11==11.7.99 (from torch==1.13.1->concrete-ml)\n",
            "  Downloading nvidia_cuda_nvrtc_cu11-11.7.99-2-py3-none-manylinux1_x86_64.whl.metadata (1.5 kB)\n",
            "Requirement already satisfied: wheel in /usr/local/lib/python3.10/dist-packages (from nvidia-cublas-cu11==11.10.3.66->torch==1.13.1->concrete-ml) (0.42.0)\n",
            "Collecting botocore<1.35.0,>=1.34.47 (from boto3<2.0.0,>=1.23.5->concrete-ml)\n",
            "  Downloading botocore-1.34.47-py3-none-any.whl.metadata (5.7 kB)\n",
            "Collecting jmespath<2.0.0,>=0.7.1 (from boto3<2.0.0,>=1.23.5->concrete-ml)\n",
            "  Downloading jmespath-1.0.1-py3-none-any.whl.metadata (7.6 kB)\n",
            "Collecting s3transfer<0.11.0,>=0.10.0 (from boto3<2.0.0,>=1.23.5->concrete-ml)\n",
            "  Downloading s3transfer-0.10.0-py3-none-any.whl.metadata (1.7 kB)\n",
            "Requirement already satisfied: anyio<4.0.0,>=3.7.1 in /usr/local/lib/python3.10/dist-packages (from fastapi<0.104.0,>=0.103.2->concrete-ml) (3.7.1)\n",
            "Requirement already satisfied: pydantic!=1.8,!=1.8.1,!=2.0.0,!=2.0.1,!=2.1.0,<3.0.0,>=1.7.4 in /usr/local/lib/python3.10/dist-packages (from fastapi<0.104.0,>=0.103.2->concrete-ml) (2.6.1)\n",
            "Collecting starlette<0.28.0,>=0.27.0 (from fastapi<0.104.0,>=0.103.2->concrete-ml)\n",
            "  Downloading starlette-0.27.0-py3-none-any.whl.metadata (5.8 kB)\n",
            "Requirement already satisfied: filelock in /usr/local/lib/python3.10/dist-packages (from transformers<5.0.0,>=4.36.0->concrete-ml) (3.13.1)\n",
            "Requirement already satisfied: pyyaml>=5.1 in /usr/local/lib/python3.10/dist-packages (from transformers<5.0.0,>=4.36.0->concrete-ml) (6.0.1)\n",
            "Requirement already satisfied: regex!=2019.12.17 in /usr/local/lib/python3.10/dist-packages (from transformers<5.0.0,>=4.36.0->concrete-ml) (2023.12.25)\n",
            "Requirement already satisfied: requests in /usr/local/lib/python3.10/dist-packages (from transformers<5.0.0,>=4.36.0->concrete-ml) (2.31.0)\n",
            "Requirement already satisfied: tokenizers<0.19,>=0.14 in /usr/local/lib/python3.10/dist-packages (from transformers<5.0.0,>=4.36.0->concrete-ml) (0.15.2)\n",
            "Requirement already satisfied: safetensors>=0.4.1 in /usr/local/lib/python3.10/dist-packages (from transformers<5.0.0,>=4.36.0->concrete-ml) (0.4.2)\n",
            "Requirement already satisfied: click>=7.0 in /usr/local/lib/python3.10/dist-packages (from uvicorn<0.22.0,>=0.21.0->concrete-ml) (8.1.7)\n",
            "Collecting h11>=0.8 (from uvicorn<0.22.0,>=0.21.0->concrete-ml)\n",
            "  Downloading h11-0.14.0-py3-none-any.whl.metadata (8.2 kB)\n",
            "Requirement already satisfied: idna>=2.8 in /usr/local/lib/python3.10/dist-packages (from anyio<4.0.0,>=3.7.1->fastapi<0.104.0,>=0.103.2->concrete-ml) (3.6)\n",
            "Requirement already satisfied: sniffio>=1.1 in /usr/local/lib/python3.10/dist-packages (from anyio<4.0.0,>=3.7.1->fastapi<0.104.0,>=0.103.2->concrete-ml) (1.3.0)\n",
            "Requirement already satisfied: exceptiongroup in /usr/local/lib/python3.10/dist-packages (from anyio<4.0.0,>=3.7.1->fastapi<0.104.0,>=0.103.2->concrete-ml) (1.2.0)\n",
            "Requirement already satisfied: python-dateutil<3.0.0,>=2.1 in /usr/local/lib/python3.10/dist-packages (from botocore<1.35.0,>=1.34.47->boto3<2.0.0,>=1.23.5->concrete-ml) (2.8.2)\n",
            "Requirement already satisfied: urllib3<2.1,>=1.25.4 in /usr/local/lib/python3.10/dist-packages (from botocore<1.35.0,>=1.34.47->boto3<2.0.0,>=1.23.5->concrete-ml) (2.0.7)\n",
            "Collecting smmap<6,>=3.0.1 (from gitdb<5,>=4.0.1->gitpython==3.1.41->concrete-ml)\n",
            "  Downloading smmap-5.0.1-py3-none-any.whl.metadata (4.3 kB)\n",
            "Requirement already satisfied: fsspec>=2023.5.0 in /usr/local/lib/python3.10/dist-packages (from huggingface-hub>=0.10.1->skops==0.5.0->concrete-ml) (2023.6.0)\n",
            "INFO: pip is looking at multiple versions of onnxconverter-common to determine which version is compatible with other requirements. This could take a while.\n",
            "Collecting onnxconverter-common>=1.6.0 (from hummingbird-ml==0.4.8->hummingbird-ml[onnx]==0.4.8->concrete-ml)\n",
            "  Downloading onnxconverter_common-1.13.0-py2.py3-none-any.whl.metadata (2.6 kB)\n",
            "Requirement already satisfied: annotated-types>=0.4.0 in /usr/local/lib/python3.10/dist-packages (from pydantic!=1.8,!=1.8.1,!=2.0.0,!=2.0.1,!=2.1.0,<3.0.0,>=1.7.4->fastapi<0.104.0,>=0.103.2->concrete-ml) (0.6.0)\n",
            "Requirement already satisfied: pydantic-core==2.16.2 in /usr/local/lib/python3.10/dist-packages (from pydantic!=1.8,!=1.8.1,!=2.0.0,!=2.0.1,!=2.1.0,<3.0.0,>=1.7.4->fastapi<0.104.0,>=0.103.2->concrete-ml) (2.16.2)\n",
            "INFO: pip is looking at multiple versions of pydantic to determine which version is compatible with other requirements. This could take a while.\n",
            "Collecting pydantic!=1.8,!=1.8.1,!=2.0.0,!=2.0.1,!=2.1.0,<3.0.0,>=1.7.4 (from fastapi<0.104.0,>=0.103.2->concrete-ml)\n",
            "  Downloading pydantic-2.6.0-py3-none-any.whl.metadata (81 kB)\n",
            "\u001b[2K     \u001b[90m━━━━━━━━━━━━━━━━━━━━━━━━━━━━━━━━━━━━━━━━\u001b[0m \u001b[32m81.8/81.8 kB\u001b[0m \u001b[31m7.3 MB/s\u001b[0m eta \u001b[36m0:00:00\u001b[0m\n",
            "\u001b[?25hCollecting pydantic-core==2.16.1 (from pydantic!=1.8,!=1.8.1,!=2.0.0,!=2.0.1,!=2.1.0,<3.0.0,>=1.7.4->fastapi<0.104.0,>=0.103.2->concrete-ml)\n",
            "  Downloading pydantic_core-2.16.1-cp310-cp310-manylinux_2_17_x86_64.manylinux2014_x86_64.whl.metadata (6.5 kB)\n",
            "Collecting pydantic!=1.8,!=1.8.1,!=2.0.0,!=2.0.1,!=2.1.0,<3.0.0,>=1.7.4 (from fastapi<0.104.0,>=0.103.2->concrete-ml)\n",
            "  Downloading pydantic-2.5.3-py3-none-any.whl.metadata (65 kB)\n",
            "\u001b[2K     \u001b[90m━━━━━━━━━━━━━━━━━━━━━━━━━━━━━━━━━━━━━━━━\u001b[0m \u001b[32m65.6/65.6 kB\u001b[0m \u001b[31m5.4 MB/s\u001b[0m eta \u001b[36m0:00:00\u001b[0m\n",
            "\u001b[?25hCollecting pydantic-core==2.14.6 (from pydantic!=1.8,!=1.8.1,!=2.0.0,!=2.0.1,!=2.1.0,<3.0.0,>=1.7.4->fastapi<0.104.0,>=0.103.2->concrete-ml)\n",
            "  Downloading pydantic_core-2.14.6-cp310-cp310-manylinux_2_17_x86_64.manylinux2014_x86_64.whl.metadata (6.5 kB)\n",
            "Collecting pydantic!=1.8,!=1.8.1,!=2.0.0,!=2.0.1,!=2.1.0,<3.0.0,>=1.7.4 (from fastapi<0.104.0,>=0.103.2->concrete-ml)\n",
            "  Downloading pydantic-2.5.2-py3-none-any.whl.metadata (65 kB)\n",
            "\u001b[2K     \u001b[90m━━━━━━━━━━━━━━━━━━━━━━━━━━━━━━━━━━━━━━━━\u001b[0m \u001b[32m65.2/65.2 kB\u001b[0m \u001b[31m5.2 MB/s\u001b[0m eta \u001b[36m0:00:00\u001b[0m\n",
            "\u001b[?25hCollecting pydantic-core==2.14.5 (from pydantic!=1.8,!=1.8.1,!=2.0.0,!=2.0.1,!=2.1.0,<3.0.0,>=1.7.4->fastapi<0.104.0,>=0.103.2->concrete-ml)\n",
            "  Downloading pydantic_core-2.14.5-cp310-cp310-manylinux_2_17_x86_64.manylinux2014_x86_64.whl.metadata (6.5 kB)\n",
            "Collecting pydantic!=1.8,!=1.8.1,!=2.0.0,!=2.0.1,!=2.1.0,<3.0.0,>=1.7.4 (from fastapi<0.104.0,>=0.103.2->concrete-ml)\n",
            "  Downloading pydantic-2.5.1-py3-none-any.whl.metadata (64 kB)\n",
            "\u001b[2K     \u001b[90m━━━━━━━━━━━━━━━━━━━━━━━━━━━━━━━━━━━━━━━━\u001b[0m \u001b[32m64.1/64.1 kB\u001b[0m \u001b[31m4.4 MB/s\u001b[0m eta \u001b[36m0:00:00\u001b[0m\n",
            "\u001b[?25hCollecting pydantic-core==2.14.3 (from pydantic!=1.8,!=1.8.1,!=2.0.0,!=2.0.1,!=2.1.0,<3.0.0,>=1.7.4->fastapi<0.104.0,>=0.103.2->concrete-ml)\n",
            "  Downloading pydantic_core-2.14.3-cp310-cp310-manylinux_2_17_x86_64.manylinux2014_x86_64.whl.metadata (6.5 kB)\n",
            "Collecting pydantic!=1.8,!=1.8.1,!=2.0.0,!=2.0.1,!=2.1.0,<3.0.0,>=1.7.4 (from fastapi<0.104.0,>=0.103.2->concrete-ml)\n",
            "  Downloading pydantic-2.5.0-py3-none-any.whl.metadata (174 kB)\n",
            "\u001b[2K     \u001b[90m━━━━━━━━━━━━━━━━━━━━━━━━━━━━━━━━━━━━━━━━\u001b[0m \u001b[32m174.6/174.6 kB\u001b[0m \u001b[31m13.7 MB/s\u001b[0m eta \u001b[36m0:00:00\u001b[0m\n",
            "\u001b[?25hCollecting pydantic-core==2.14.1 (from pydantic!=1.8,!=1.8.1,!=2.0.0,!=2.0.1,!=2.1.0,<3.0.0,>=1.7.4->fastapi<0.104.0,>=0.103.2->concrete-ml)\n",
            "  Downloading pydantic_core-2.14.1-cp310-cp310-manylinux_2_17_x86_64.manylinux2014_x86_64.whl.metadata (6.5 kB)\n",
            "Collecting pydantic!=1.8,!=1.8.1,!=2.0.0,!=2.0.1,!=2.1.0,<3.0.0,>=1.7.4 (from fastapi<0.104.0,>=0.103.2->concrete-ml)\n",
            "  Downloading pydantic-2.4.2-py3-none-any.whl.metadata (158 kB)\n",
            "\u001b[2K     \u001b[90m━━━━━━━━━━━━━━━━━━━━━━━━━━━━━━━━━━━━━━━━\u001b[0m \u001b[32m158.6/158.6 kB\u001b[0m \u001b[31m12.2 MB/s\u001b[0m eta \u001b[36m0:00:00\u001b[0m\n",
            "\u001b[?25hCollecting pydantic-core==2.10.1 (from pydantic!=1.8,!=1.8.1,!=2.0.0,!=2.0.1,!=2.1.0,<3.0.0,>=1.7.4->fastapi<0.104.0,>=0.103.2->concrete-ml)\n",
            "  Downloading pydantic_core-2.10.1-cp310-cp310-manylinux_2_17_x86_64.manylinux2014_x86_64.whl.metadata (6.5 kB)\n",
            "Collecting pydantic!=1.8,!=1.8.1,!=2.0.0,!=2.0.1,!=2.1.0,<3.0.0,>=1.7.4 (from fastapi<0.104.0,>=0.103.2->concrete-ml)\n",
            "  Downloading pydantic-2.4.1-py3-none-any.whl.metadata (157 kB)\n",
            "\u001b[2K     \u001b[90m━━━━━━━━━━━━━━━━━━━━━━━━━━━━━━━━━━━━━━━━\u001b[0m \u001b[32m157.1/157.1 kB\u001b[0m \u001b[31m11.1 MB/s\u001b[0m eta \u001b[36m0:00:00\u001b[0m\n",
            "\u001b[?25hINFO: pip is still looking at multiple versions of pydantic to determine which version is compatible with other requirements. This could take a while.\n",
            "  Downloading pydantic-2.4.0-py3-none-any.whl.metadata (156 kB)\n",
            "\u001b[2K     \u001b[90m━━━━━━━━━━━━━━━━━━━━━━━━━━━━━━━━━━━━━━━━\u001b[0m \u001b[32m156.4/156.4 kB\u001b[0m \u001b[31m12.1 MB/s\u001b[0m eta \u001b[36m0:00:00\u001b[0m\n",
            "\u001b[?25hCollecting pydantic-core==2.10.0 (from pydantic!=1.8,!=1.8.1,!=2.0.0,!=2.0.1,!=2.1.0,<3.0.0,>=1.7.4->fastapi<0.104.0,>=0.103.2->concrete-ml)\n",
            "  Downloading pydantic_core-2.10.0-cp310-cp310-manylinux_2_17_x86_64.manylinux2014_x86_64.whl.metadata (6.5 kB)\n",
            "Collecting pydantic!=1.8,!=1.8.1,!=2.0.0,!=2.0.1,!=2.1.0,<3.0.0,>=1.7.4 (from fastapi<0.104.0,>=0.103.2->concrete-ml)\n",
            "  Downloading pydantic-2.3.0-py3-none-any.whl.metadata (148 kB)\n",
            "\u001b[2K     \u001b[90m━━━━━━━━━━━━━━━━━━━━━━━━━━━━━━━━━━━━━━━━\u001b[0m \u001b[32m148.8/148.8 kB\u001b[0m \u001b[31m10.1 MB/s\u001b[0m eta \u001b[36m0:00:00\u001b[0m\n",
            "\u001b[?25hCollecting pydantic-core==2.6.3 (from pydantic!=1.8,!=1.8.1,!=2.0.0,!=2.0.1,!=2.1.0,<3.0.0,>=1.7.4->fastapi<0.104.0,>=0.103.2->concrete-ml)\n",
            "  Downloading pydantic_core-2.6.3-cp310-cp310-manylinux_2_17_x86_64.manylinux2014_x86_64.whl.metadata (6.5 kB)\n",
            "Collecting pydantic!=1.8,!=1.8.1,!=2.0.0,!=2.0.1,!=2.1.0,<3.0.0,>=1.7.4 (from fastapi<0.104.0,>=0.103.2->concrete-ml)\n",
            "  Downloading pydantic-2.2.1-py3-none-any.whl.metadata (145 kB)\n",
            "\u001b[2K     \u001b[90m━━━━━━━━━━━━━━━━━━━━━━━━━━━━━━━━━━━━━━━━\u001b[0m \u001b[32m145.6/145.6 kB\u001b[0m \u001b[31m12.5 MB/s\u001b[0m eta \u001b[36m0:00:00\u001b[0m\n",
            "\u001b[?25hCollecting pydantic-core==2.6.1 (from pydantic!=1.8,!=1.8.1,!=2.0.0,!=2.0.1,!=2.1.0,<3.0.0,>=1.7.4->fastapi<0.104.0,>=0.103.2->concrete-ml)\n",
            "  Downloading pydantic_core-2.6.1-cp310-cp310-manylinux_2_17_x86_64.manylinux2014_x86_64.whl.metadata (6.5 kB)\n",
            "Collecting pydantic!=1.8,!=1.8.1,!=2.0.0,!=2.0.1,!=2.1.0,<3.0.0,>=1.7.4 (from fastapi<0.104.0,>=0.103.2->concrete-ml)\n",
            "  Downloading pydantic-2.2.0-py3-none-any.whl.metadata (145 kB)\n",
            "\u001b[2K     \u001b[90m━━━━━━━━━━━━━━━━━━━━━━━━━━━━━━━━━━━━━━━━\u001b[0m \u001b[32m145.6/145.6 kB\u001b[0m \u001b[31m9.7 MB/s\u001b[0m eta \u001b[36m0:00:00\u001b[0m\n",
            "\u001b[?25hCollecting pydantic-core==2.6.0 (from pydantic!=1.8,!=1.8.1,!=2.0.0,!=2.0.1,!=2.1.0,<3.0.0,>=1.7.4->fastapi<0.104.0,>=0.103.2->concrete-ml)\n",
            "  Downloading pydantic_core-2.6.0-cp310-cp310-manylinux_2_17_x86_64.manylinux2014_x86_64.whl.metadata (6.5 kB)\n",
            "Collecting pydantic!=1.8,!=1.8.1,!=2.0.0,!=2.0.1,!=2.1.0,<3.0.0,>=1.7.4 (from fastapi<0.104.0,>=0.103.2->concrete-ml)\n",
            "  Downloading pydantic-2.1.1-py3-none-any.whl.metadata (136 kB)\n",
            "\u001b[2K     \u001b[90m━━━━━━━━━━━━━━━━━━━━━━━━━━━━━━━━━━━━━━━━\u001b[0m \u001b[32m136.5/136.5 kB\u001b[0m \u001b[31m10.8 MB/s\u001b[0m eta \u001b[36m0:00:00\u001b[0m\n",
            "\u001b[?25hCollecting pydantic-core==2.4.0 (from pydantic!=1.8,!=1.8.1,!=2.0.0,!=2.0.1,!=2.1.0,<3.0.0,>=1.7.4->fastapi<0.104.0,>=0.103.2->concrete-ml)\n",
            "  Downloading pydantic_core-2.4.0-cp310-cp310-manylinux_2_17_x86_64.manylinux2014_x86_64.whl.metadata (6.5 kB)\n",
            "INFO: This is taking longer than usual. You might need to provide the dependency resolver with stricter constraints to reduce runtime. See https://pip.pypa.io/warnings/backtracking for guidance. If you want to abort this run, press Ctrl + C.\n",
            "Collecting pydantic!=1.8,!=1.8.1,!=2.0.0,!=2.0.1,!=2.1.0,<3.0.0,>=1.7.4 (from fastapi<0.104.0,>=0.103.2->concrete-ml)\n",
            "  Downloading pydantic-2.0.3-py3-none-any.whl.metadata (128 kB)\n",
            "\u001b[2K     \u001b[90m━━━━━━━━━━━━━━━━━━━━━━━━━━━━━━━━━━━━━━━━\u001b[0m \u001b[32m128.2/128.2 kB\u001b[0m \u001b[31m10.5 MB/s\u001b[0m eta \u001b[36m0:00:00\u001b[0m\n",
            "\u001b[?25hCollecting pydantic-core==2.3.0 (from pydantic!=1.8,!=1.8.1,!=2.0.0,!=2.0.1,!=2.1.0,<3.0.0,>=1.7.4->fastapi<0.104.0,>=0.103.2->concrete-ml)\n",
            "  Downloading pydantic_core-2.3.0-cp310-cp310-manylinux_2_17_x86_64.manylinux2014_x86_64.whl.metadata (5.1 kB)\n",
            "Collecting pydantic!=1.8,!=1.8.1,!=2.0.0,!=2.0.1,!=2.1.0,<3.0.0,>=1.7.4 (from fastapi<0.104.0,>=0.103.2->concrete-ml)\n",
            "  Downloading pydantic-2.0.2-py3-none-any.whl.metadata (119 kB)\n",
            "\u001b[2K     \u001b[90m━━━━━━━━━━━━━━━━━━━━━━━━━━━━━━━━━━━━━━━━\u001b[0m \u001b[32m120.0/120.0 kB\u001b[0m \u001b[31m10.9 MB/s\u001b[0m eta \u001b[36m0:00:00\u001b[0m\n",
            "\u001b[?25hCollecting pydantic-core==2.1.2 (from pydantic!=1.8,!=1.8.1,!=2.0.0,!=2.0.1,!=2.1.0,<3.0.0,>=1.7.4->fastapi<0.104.0,>=0.103.2->concrete-ml)\n",
            "  Downloading pydantic_core-2.1.2-cp310-cp310-manylinux_2_17_x86_64.manylinux2014_x86_64.whl.metadata (5.1 kB)\n",
            "Collecting pydantic!=1.8,!=1.8.1,!=2.0.0,!=2.0.1,!=2.1.0,<3.0.0,>=1.7.4 (from fastapi<0.104.0,>=0.103.2->concrete-ml)\n",
            "  Downloading pydantic-1.10.14-cp310-cp310-manylinux_2_17_x86_64.manylinux2014_x86_64.whl.metadata (150 kB)\n",
            "\u001b[2K     \u001b[90m━━━━━━━━━━━━━━━━━━━━━━━━━━━━━━━━━━━━━━━━\u001b[0m \u001b[32m150.2/150.2 kB\u001b[0m \u001b[31m11.3 MB/s\u001b[0m eta \u001b[36m0:00:00\u001b[0m\n",
            "\u001b[?25hRequirement already satisfied: iniconfig in /usr/local/lib/python3.10/dist-packages (from pytest>=3.8.0->pytest-json-report==1.5.0->concrete-ml) (2.0.0)\n",
            "Requirement already satisfied: pluggy<2.0,>=0.12 in /usr/local/lib/python3.10/dist-packages (from pytest>=3.8.0->pytest-json-report==1.5.0->concrete-ml) (1.4.0)\n",
            "Requirement already satisfied: tomli>=1.0.0 in /usr/local/lib/python3.10/dist-packages (from pytest>=3.8.0->pytest-json-report==1.5.0->concrete-ml) (2.0.1)\n",
            "Collecting humanfriendly>=9.1 (from coloredlogs->onnxruntime==1.13.1->concrete-ml)\n",
            "  Downloading humanfriendly-10.0-py2.py3-none-any.whl (86 kB)\n",
            "\u001b[2K     \u001b[90m━━━━━━━━━━━━━━━━━━━━━━━━━━━━━━━━━━━━━━━━\u001b[0m \u001b[32m86.8/86.8 kB\u001b[0m \u001b[31m7.5 MB/s\u001b[0m eta \u001b[36m0:00:00\u001b[0m\n",
            "\u001b[?25hRequirement already satisfied: charset-normalizer<4,>=2 in /usr/local/lib/python3.10/dist-packages (from requests->transformers<5.0.0,>=4.36.0->concrete-ml) (3.3.2)\n",
            "Requirement already satisfied: mpmath>=0.19 in /usr/local/lib/python3.10/dist-packages (from sympy->onnxruntime==1.13.1->concrete-ml) (1.3.0)\n",
            "Requirement already satisfied: six>=1.5 in /usr/local/lib/python3.10/dist-packages (from python-dateutil<3.0.0,>=2.1->botocore<1.35.0,>=1.34.47->boto3<2.0.0,>=1.23.5->concrete-ml) (1.16.0)\n",
            "Downloading concrete_ml-1.4.1-py3-none-any.whl (221 kB)\n",
            "\u001b[2K   \u001b[90m━━━━━━━━━━━━━━━━━━━━━━━━━━━━━━━━━━━━━━━━\u001b[0m \u001b[32m221.5/221.5 kB\u001b[0m \u001b[31m15.1 MB/s\u001b[0m eta \u001b[36m0:00:00\u001b[0m\n",
            "\u001b[?25hDownloading brevitas-0.8.0-py3-none-any.whl (357 kB)\n",
            "\u001b[2K   \u001b[90m━━━━━━━━━━━━━━━━━━━━━━━━━━━━━━━━━━━━━━━━\u001b[0m \u001b[32m357.3/357.3 kB\u001b[0m \u001b[31m26.1 MB/s\u001b[0m eta \u001b[36m0:00:00\u001b[0m\n",
            "\u001b[?25hDownloading certifi-2023.7.22-py3-none-any.whl (158 kB)\n",
            "\u001b[2K   \u001b[90m━━━━━━━━━━━━━━━━━━━━━━━━━━━━━━━━━━━━━━━━\u001b[0m \u001b[32m158.3/158.3 kB\u001b[0m \u001b[31m12.1 MB/s\u001b[0m eta \u001b[36m0:00:00\u001b[0m\n",
            "\u001b[?25hDownloading concrete_python-2.5.1-cp310-cp310-manylinux_2_28_x86_64.whl (65.5 MB)\n",
            "\u001b[2K   \u001b[90m━━━━━━━━━━━━━━━━━━━━━━━━━━━━━━━━━━━━━━━━\u001b[0m \u001b[32m65.5/65.5 MB\u001b[0m \u001b[31m6.8 MB/s\u001b[0m eta \u001b[36m0:00:00\u001b[0m\n",
            "\u001b[?25hDownloading GitPython-3.1.41-py3-none-any.whl (196 kB)\n",
            "\u001b[2K   \u001b[90m━━━━━━━━━━━━━━━━━━━━━━━━━━━━━━━━━━━━━━━━\u001b[0m \u001b[32m196.4/196.4 kB\u001b[0m \u001b[31m14.7 MB/s\u001b[0m eta \u001b[36m0:00:00\u001b[0m\n",
            "\u001b[?25hDownloading hummingbird_ml-0.4.8-py2.py3-none-any.whl (164 kB)\n",
            "\u001b[2K   \u001b[90m━━━━━━━━━━━━━━━━━━━━━━━━━━━━━━━━━━━━━━━━\u001b[0m \u001b[32m164.6/164.6 kB\u001b[0m \u001b[31m11.6 MB/s\u001b[0m eta \u001b[36m0:00:00\u001b[0m\n",
            "\u001b[?25hDownloading numpy-1.23.5-cp310-cp310-manylinux_2_17_x86_64.manylinux2014_x86_64.whl (17.1 MB)\n",
            "\u001b[2K   \u001b[90m━━━━━━━━━━━━━━━━━━━━━━━━━━━━━━━━━━━━━━━━\u001b[0m \u001b[32m17.1/17.1 MB\u001b[0m \u001b[31m98.0 MB/s\u001b[0m eta \u001b[36m0:00:00\u001b[0m\n",
            "\u001b[?25hDownloading onnx-1.13.1-cp310-cp310-manylinux_2_17_x86_64.manylinux2014_x86_64.whl (13.5 MB)\n",
            "\u001b[2K   \u001b[90m━━━━━━━━━━━━━━━━━━━━━━━━━━━━━━━━━━━━━━━━\u001b[0m \u001b[32m13.5/13.5 MB\u001b[0m \u001b[31m107.4 MB/s\u001b[0m eta \u001b[36m0:00:00\u001b[0m\n",
            "\u001b[?25hDownloading onnxoptimizer-0.3.10-cp310-cp310-manylinux_2_17_x86_64.manylinux2014_x86_64.whl (671 kB)\n",
            "\u001b[2K   \u001b[90m━━━━━━━━━━━━━━━━━━━━━━━━━━━━━━━━━━━━━━━━\u001b[0m \u001b[32m671.6/671.6 kB\u001b[0m \u001b[31m39.9 MB/s\u001b[0m eta \u001b[36m0:00:00\u001b[0m\n",
            "\u001b[?25hDownloading onnxruntime-1.13.1-cp310-cp310-manylinux_2_27_x86_64.whl (4.5 MB)\n",
            "\u001b[2K   \u001b[90m━━━━━━━━━━━━━━━━━━━━━━━━━━━━━━━━━━━━━━━━\u001b[0m \u001b[32m4.5/4.5 MB\u001b[0m \u001b[31m103.1 MB/s\u001b[0m eta \u001b[36m0:00:00\u001b[0m\n",
            "\u001b[?25hDownloading scikit_learn-1.1.3-cp310-cp310-manylinux_2_17_x86_64.manylinux2014_x86_64.whl (30.5 MB)\n",
            "\u001b[2K   \u001b[90m━━━━━━━━━━━━━━━━━━━━━━━━━━━━━━━━━━━━━━━━\u001b[0m \u001b[32m30.5/30.5 MB\u001b[0m \u001b[31m18.9 MB/s\u001b[0m eta \u001b[36m0:00:00\u001b[0m\n",
            "\u001b[?25hDownloading scipy-1.10.1-cp310-cp310-manylinux_2_17_x86_64.manylinux2014_x86_64.whl (34.4 MB)\n",
            "\u001b[2K   \u001b[90m━━━━━━━━━━━━━━━━━━━━━━━━━━━━━━━━━━━━━━━━\u001b[0m \u001b[32m34.4/34.4 MB\u001b[0m \u001b[31m64.4 MB/s\u001b[0m eta \u001b[36m0:00:00\u001b[0m\n",
            "\u001b[?25hDownloading setuptools-65.6.3-py3-none-any.whl (1.2 MB)\n",
            "\u001b[2K   \u001b[90m━━━━━━━━━━━━━━━━━━━━━━━━━━━━━━━━━━━━━━━━\u001b[0m \u001b[32m1.2/1.2 MB\u001b[0m \u001b[31m61.9 MB/s\u001b[0m eta \u001b[36m0:00:00\u001b[0m\n",
            "\u001b[?25hDownloading skops-0.5.0-py3-none-any.whl (92 kB)\n",
            "\u001b[2K   \u001b[90m━━━━━━━━━━━━━━━━━━━━━━━━━━━━━━━━━━━━━━━━\u001b[0m \u001b[32m92.8/92.8 kB\u001b[0m \u001b[31m7.8 MB/s\u001b[0m eta \u001b[36m0:00:00\u001b[0m\n",
            "\u001b[?25hDownloading torch-1.13.1-cp310-cp310-manylinux1_x86_64.whl (887.5 MB)\n",
            "\u001b[2K   \u001b[90m━━━━━━━━━━━━━━━━━━━━━━━━━━━━━━━━━━━━━━━━\u001b[0m \u001b[32m887.5/887.5 MB\u001b[0m \u001b[31m2.2 MB/s\u001b[0m eta \u001b[36m0:00:00\u001b[0m\n",
            "\u001b[?25hDownloading typing_extensions-4.5.0-py3-none-any.whl (27 kB)\n",
            "Downloading xgboost-1.6.2-py3-none-manylinux2014_x86_64.whl (255.9 MB)\n",
            "\u001b[2K   \u001b[90m━━━━━━━━━━━━━━━━━━━━━━━━━━━━━━━━━━━━━━━━\u001b[0m \u001b[32m255.9/255.9 MB\u001b[0m \u001b[31m5.2 MB/s\u001b[0m eta \u001b[36m0:00:00\u001b[0m\n",
            "\u001b[?25hDownloading nvidia_cublas_cu11-11.10.3.66-py3-none-manylinux1_x86_64.whl (317.1 MB)\n",
            "\u001b[2K   \u001b[90m━━━━━━━━━━━━━━━━━━━━━━━━━━━━━━━━━━━━━━━━\u001b[0m \u001b[32m317.1/317.1 MB\u001b[0m \u001b[31m4.4 MB/s\u001b[0m eta \u001b[36m0:00:00\u001b[0m\n",
            "\u001b[?25hDownloading nvidia_cuda_nvrtc_cu11-11.7.99-2-py3-none-manylinux1_x86_64.whl (21.0 MB)\n",
            "\u001b[2K   \u001b[90m━━━━━━━━━━━━━━━━━━━━━━━━━━━━━━━━━━━━━━━━\u001b[0m \u001b[32m21.0/21.0 MB\u001b[0m \u001b[31m93.6 MB/s\u001b[0m eta \u001b[36m0:00:00\u001b[0m\n",
            "\u001b[?25hDownloading nvidia_cuda_runtime_cu11-11.7.99-py3-none-manylinux1_x86_64.whl (849 kB)\n",
            "\u001b[2K   \u001b[90m━━━━━━━━━━━━━━━━━━━━━━━━━━━━━━━━━━━━━━━━\u001b[0m \u001b[32m849.3/849.3 kB\u001b[0m \u001b[31m47.2 MB/s\u001b[0m eta \u001b[36m0:00:00\u001b[0m\n",
            "\u001b[?25hDownloading nvidia_cudnn_cu11-8.5.0.96-2-py3-none-manylinux1_x86_64.whl (557.1 MB)\n",
            "\u001b[2K   \u001b[90m━━━━━━━━━━━━━━━━━━━━━━━━━━━━━━━━━━━━━━━━\u001b[0m \u001b[32m557.1/557.1 MB\u001b[0m \u001b[31m3.1 MB/s\u001b[0m eta \u001b[36m0:00:00\u001b[0m\n",
            "\u001b[?25hDownloading boto3-1.34.47-py3-none-any.whl (139 kB)\n",
            "\u001b[2K   \u001b[90m━━━━━━━━━━━━━━━━━━━━━━━━━━━━━━━━━━━━━━━━\u001b[0m \u001b[32m139.3/139.3 kB\u001b[0m \u001b[31m10.0 MB/s\u001b[0m eta \u001b[36m0:00:00\u001b[0m\n",
            "\u001b[?25hDownloading fastapi-0.103.2-py3-none-any.whl (66 kB)\n",
            "\u001b[2K   \u001b[90m━━━━━━━━━━━━━━━━━━━━━━━━━━━━━━━━━━━━━━━━\u001b[0m \u001b[32m66.3/66.3 kB\u001b[0m \u001b[31m4.4 MB/s\u001b[0m eta \u001b[36m0:00:00\u001b[0m\n",
            "\u001b[?25hDownloading uvicorn-0.21.1-py3-none-any.whl (57 kB)\n",
            "\u001b[2K   \u001b[90m━━━━━━━━━━━━━━━━━━━━━━━━━━━━━━━━━━━━━━━━\u001b[0m \u001b[32m57.8/57.8 kB\u001b[0m \u001b[31m3.5 MB/s\u001b[0m eta \u001b[36m0:00:00\u001b[0m\n",
            "\u001b[?25hDownloading botocore-1.34.47-py3-none-any.whl (12.0 MB)\n",
            "\u001b[2K   \u001b[90m━━━━━━━━━━━━━━━━━━━━━━━━━━━━━━━━━━━━━━━━\u001b[0m \u001b[32m12.0/12.0 MB\u001b[0m \u001b[31m30.2 MB/s\u001b[0m eta \u001b[36m0:00:00\u001b[0m\n",
            "\u001b[?25hDownloading gitdb-4.0.11-py3-none-any.whl (62 kB)\n",
            "\u001b[2K   \u001b[90m━━━━━━━━━━━━━━━━━━━━━━━━━━━━━━━━━━━━━━━━\u001b[0m \u001b[32m62.7/62.7 kB\u001b[0m \u001b[31m2.5 MB/s\u001b[0m eta \u001b[36m0:00:00\u001b[0m\n",
            "\u001b[?25hDownloading h11-0.14.0-py3-none-any.whl (58 kB)\n",
            "\u001b[2K   \u001b[90m━━━━━━━━━━━━━━━━━━━━━━━━━━━━━━━━━━━━━━━━\u001b[0m \u001b[32m58.3/58.3 kB\u001b[0m \u001b[31m2.0 MB/s\u001b[0m eta \u001b[36m0:00:00\u001b[0m\n",
            "\u001b[?25hDownloading jmespath-1.0.1-py3-none-any.whl (20 kB)\n",
            "Downloading onnxconverter_common-1.13.0-py2.py3-none-any.whl (83 kB)\n",
            "\u001b[2K   \u001b[90m━━━━━━━━━━━━━━━━━━━━━━━━━━━━━━━━━━━━━━━━\u001b[0m \u001b[32m83.8/83.8 kB\u001b[0m \u001b[31m7.0 MB/s\u001b[0m eta \u001b[36m0:00:00\u001b[0m\n",
            "\u001b[?25hDownloading pydantic-1.10.14-cp310-cp310-manylinux_2_17_x86_64.manylinux2014_x86_64.whl (3.1 MB)\n",
            "\u001b[2K   \u001b[90m━━━━━━━━━━━━━━━━━━━━━━━━━━━━━━━━━━━━━━━━\u001b[0m \u001b[32m3.1/3.1 MB\u001b[0m \u001b[31m54.6 MB/s\u001b[0m eta \u001b[36m0:00:00\u001b[0m\n",
            "\u001b[?25hDownloading s3transfer-0.10.0-py3-none-any.whl (82 kB)\n",
            "\u001b[2K   \u001b[90m━━━━━━━━━━━━━━━━━━━━━━━━━━━━━━━━━━━━━━━━\u001b[0m \u001b[32m82.1/82.1 kB\u001b[0m \u001b[31m6.5 MB/s\u001b[0m eta \u001b[36m0:00:00\u001b[0m\n",
            "\u001b[?25hDownloading skl2onnx-1.12-py2.py3-none-any.whl (279 kB)\n",
            "\u001b[2K   \u001b[90m━━━━━━━━━━━━━━━━━━━━━━━━━━━━━━━━━━━━━━━━\u001b[0m \u001b[32m279.3/279.3 kB\u001b[0m \u001b[31m18.4 MB/s\u001b[0m eta \u001b[36m0:00:00\u001b[0m\n",
            "\u001b[?25hDownloading starlette-0.27.0-py3-none-any.whl (66 kB)\n",
            "\u001b[2K   \u001b[90m━━━━━━━━━━━━━━━━━━━━━━━━━━━━━━━━━━━━━━━━\u001b[0m \u001b[32m67.0/67.0 kB\u001b[0m \u001b[31m5.0 MB/s\u001b[0m eta \u001b[36m0:00:00\u001b[0m\n",
            "\u001b[?25hDownloading z3_solver-4.12.5.0-py2.py3-none-manylinux2014_x86_64.whl (56.9 MB)\n",
            "\u001b[2K   \u001b[90m━━━━━━━━━━━━━━━━━━━━━━━━━━━━━━━━━━━━━━━━\u001b[0m \u001b[32m56.9/56.9 MB\u001b[0m \u001b[31m18.7 MB/s\u001b[0m eta \u001b[36m0:00:00\u001b[0m\n",
            "\u001b[?25hDownloading dill-0.3.8-py3-none-any.whl (116 kB)\n",
            "\u001b[2K   \u001b[90m━━━━━━━━━━━━━━━━━━━━━━━━━━━━━━━━━━━━━━━━\u001b[0m \u001b[32m116.3/116.3 kB\u001b[0m \u001b[31m9.2 MB/s\u001b[0m eta \u001b[36m0:00:00\u001b[0m\n",
            "\u001b[?25hDownloading pytest_metadata-3.1.1-py3-none-any.whl (11 kB)\n",
            "Downloading smmap-5.0.1-py3-none-any.whl (24 kB)\n",
            "Installing collected packages: z3-solver, typing-extensions, smmap, setuptools, nvidia-cuda-nvrtc-cu11, numpy, jmespath, humanfriendly, h11, dill, dependencies, certifi, uvicorn, starlette, scipy, pytest-metadata, pydantic, onnx, nvidia-cuda-runtime-cu11, nvidia-cublas-cu11, gitdb, coloredlogs, botocore, xgboost, scikit-learn, s3transfer, pytest-json-report, onnxruntime, onnxoptimizer, onnxconverter-common, nvidia-cudnn-cu11, gitpython, fastapi, torch, skorch, skops, skl2onnx, boto3, onnxmltools, hummingbird-ml, concrete-python, brevitas, concrete-ml\n",
            "  Attempting uninstall: typing-extensions\n",
            "    Found existing installation: typing_extensions 4.9.0\n",
            "    Uninstalling typing_extensions-4.9.0:\n",
            "      Successfully uninstalled typing_extensions-4.9.0\n",
            "  Attempting uninstall: setuptools\n",
            "    Found existing installation: setuptools 69.1.0\n",
            "    Uninstalling setuptools-69.1.0:\n",
            "      Successfully uninstalled setuptools-69.1.0\n",
            "  Attempting uninstall: numpy\n",
            "    Found existing installation: numpy 1.25.2\n",
            "    Uninstalling numpy-1.25.2:\n",
            "      Successfully uninstalled numpy-1.25.2\n",
            "  Attempting uninstall: certifi\n",
            "    Found existing installation: certifi 2024.2.2\n",
            "    Uninstalling certifi-2024.2.2:\n",
            "      Successfully uninstalled certifi-2024.2.2\n",
            "  Attempting uninstall: scipy\n",
            "    Found existing installation: scipy 1.11.4\n",
            "    Uninstalling scipy-1.11.4:\n",
            "      Successfully uninstalled scipy-1.11.4\n",
            "  Attempting uninstall: pydantic\n",
            "    Found existing installation: pydantic 2.6.1\n",
            "    Uninstalling pydantic-2.6.1:\n",
            "      Successfully uninstalled pydantic-2.6.1\n",
            "  Attempting uninstall: xgboost\n",
            "    Found existing installation: xgboost 2.0.3\n",
            "    Uninstalling xgboost-2.0.3:\n",
            "      Successfully uninstalled xgboost-2.0.3\n",
            "  Attempting uninstall: scikit-learn\n",
            "    Found existing installation: scikit-learn 1.2.2\n",
            "    Uninstalling scikit-learn-1.2.2:\n",
            "      Successfully uninstalled scikit-learn-1.2.2\n",
            "  Attempting uninstall: torch\n",
            "    Found existing installation: torch 2.1.0+cu121\n",
            "    Uninstalling torch-2.1.0+cu121:\n",
            "      Successfully uninstalled torch-2.1.0+cu121\n",
            "\u001b[31mERROR: pip's dependency resolver does not currently take into account all the packages that are installed. This behaviour is the source of the following dependency conflicts.\n",
            "ipython 7.34.0 requires jedi>=0.16, which is not installed.\n",
            "sqlalchemy 2.0.27 requires typing-extensions>=4.6.0, but you have typing-extensions 4.5.0 which is incompatible.\n",
            "bigframes 0.21.0 requires scikit-learn>=1.2.2, but you have scikit-learn 1.1.3 which is incompatible.\n",
            "chex 0.1.85 requires numpy>=1.24.1, but you have numpy 1.23.5 which is incompatible.\n",
            "pydantic-core 2.16.2 requires typing-extensions!=4.7.0,>=4.6.0, but you have typing-extensions 4.5.0 which is incompatible.\n",
            "torchaudio 2.1.0+cu121 requires torch==2.1.0, but you have torch 1.13.1 which is incompatible.\n",
            "torchdata 0.7.0 requires torch==2.1.0, but you have torch 1.13.1 which is incompatible.\n",
            "torchtext 0.16.0 requires torch==2.1.0, but you have torch 1.13.1 which is incompatible.\n",
            "torchvision 0.16.0+cu121 requires torch==2.1.0, but you have torch 1.13.1 which is incompatible.\u001b[0m\u001b[31m\n",
            "\u001b[0mSuccessfully installed boto3-1.34.47 botocore-1.34.47 brevitas-0.8.0 certifi-2023.7.22 coloredlogs-15.0.1 concrete-ml-1.4.1 concrete-python-2.5.1 dependencies-2.0.1 dill-0.3.8 fastapi-0.103.2 gitdb-4.0.11 gitpython-3.1.41 h11-0.14.0 humanfriendly-10.0 hummingbird-ml-0.4.8 jmespath-1.0.1 numpy-1.23.5 nvidia-cublas-cu11-11.10.3.66 nvidia-cuda-nvrtc-cu11-11.7.99 nvidia-cuda-runtime-cu11-11.7.99 nvidia-cudnn-cu11-8.5.0.96 onnx-1.13.1 onnxconverter-common-1.13.0 onnxmltools-1.11.0 onnxoptimizer-0.3.10 onnxruntime-1.13.1 pydantic-1.10.14 pytest-json-report-1.5.0 pytest-metadata-3.1.1 s3transfer-0.10.0 scikit-learn-1.1.3 scipy-1.10.1 setuptools-65.6.3 skl2onnx-1.12 skops-0.5.0 skorch-0.11.0 smmap-5.0.1 starlette-0.27.0 torch-1.13.1 typing-extensions-4.5.0 uvicorn-0.21.1 xgboost-1.6.2 z3-solver-4.12.5.0\n",
            "\u001b[33mWARNING: Running pip as the 'root' user can result in broken permissions and conflicting behaviour with the system package manager. It is recommended to use a virtual environment instead: https://pip.pypa.io/warnings/venv\u001b[0m\u001b[33m\n",
            "\u001b[0m"
          ]
        },
        {
          "output_type": "display_data",
          "data": {
            "application/vnd.colab-display-data+json": {
              "pip_warning": {
                "packages": [
                  "_distutils_hack",
                  "certifi",
                  "numpy",
                  "pkg_resources",
                  "setuptools"
                ]
              }
            }
          },
          "metadata": {}
        }
      ]
    },
    {
      "cell_type": "code",
      "execution_count": 1,
      "metadata": {
        "colab": {
          "base_uri": "https://localhost:8080/"
        },
        "id": "o3Sv3lh7DR42",
        "outputId": "e16e79e2-c3ef-41c2-bd33-f4db68965f24"
      },
      "outputs": [
        {
          "output_type": "stream",
          "name": "stdout",
          "text": [
            "fatal: destination path 'concrete-ml' already exists and is not an empty directory.\n"
          ]
        }
      ],
      "source": [
        "!git clone https://github.com/zama-ai/concrete-ml.git"
      ]
    },
    {
      "cell_type": "code",
      "source": [
        "!pip install transformers"
      ],
      "metadata": {
        "colab": {
          "base_uri": "https://localhost:8080/"
        },
        "id": "5fkcnsH7HqQ9",
        "outputId": "726a2ce7-15ca-4ba6-c7e4-e9d069f5ed1f"
      },
      "execution_count": 3,
      "outputs": [
        {
          "output_type": "stream",
          "name": "stdout",
          "text": [
            "Requirement already satisfied: transformers in /usr/local/lib/python3.10/dist-packages (4.37.2)\n",
            "Requirement already satisfied: filelock in /usr/local/lib/python3.10/dist-packages (from transformers) (3.13.1)\n",
            "Requirement already satisfied: huggingface-hub<1.0,>=0.19.3 in /usr/local/lib/python3.10/dist-packages (from transformers) (0.20.3)\n",
            "Requirement already satisfied: numpy>=1.17 in /usr/local/lib/python3.10/dist-packages (from transformers) (1.23.5)\n",
            "Requirement already satisfied: packaging>=20.0 in /usr/local/lib/python3.10/dist-packages (from transformers) (23.2)\n",
            "Requirement already satisfied: pyyaml>=5.1 in /usr/local/lib/python3.10/dist-packages (from transformers) (6.0.1)\n",
            "Requirement already satisfied: regex!=2019.12.17 in /usr/local/lib/python3.10/dist-packages (from transformers) (2023.12.25)\n",
            "Requirement already satisfied: requests in /usr/local/lib/python3.10/dist-packages (from transformers) (2.31.0)\n",
            "Requirement already satisfied: tokenizers<0.19,>=0.14 in /usr/local/lib/python3.10/dist-packages (from transformers) (0.15.2)\n",
            "Requirement already satisfied: safetensors>=0.4.1 in /usr/local/lib/python3.10/dist-packages (from transformers) (0.4.2)\n",
            "Requirement already satisfied: tqdm>=4.27 in /usr/local/lib/python3.10/dist-packages (from transformers) (4.66.2)\n",
            "Requirement already satisfied: fsspec>=2023.5.0 in /usr/local/lib/python3.10/dist-packages (from huggingface-hub<1.0,>=0.19.3->transformers) (2023.6.0)\n",
            "Requirement already satisfied: typing-extensions>=3.7.4.3 in /usr/local/lib/python3.10/dist-packages (from huggingface-hub<1.0,>=0.19.3->transformers) (4.5.0)\n",
            "Requirement already satisfied: charset-normalizer<4,>=2 in /usr/local/lib/python3.10/dist-packages (from requests->transformers) (3.3.2)\n",
            "Requirement already satisfied: idna<4,>=2.5 in /usr/local/lib/python3.10/dist-packages (from requests->transformers) (3.6)\n",
            "Requirement already satisfied: urllib3<3,>=1.21.1 in /usr/local/lib/python3.10/dist-packages (from requests->transformers) (2.0.7)\n",
            "Requirement already satisfied: certifi>=2017.4.17 in /usr/local/lib/python3.10/dist-packages (from requests->transformers) (2023.7.22)\n",
            "\u001b[33mWARNING: Running pip as the 'root' user can result in broken permissions and conflicting behaviour with the system package manager. It is recommended to use a virtual environment instead: https://pip.pypa.io/warnings/venv\u001b[0m\u001b[33m\n",
            "\u001b[0m"
          ]
        }
      ]
    },
    {
      "cell_type": "code",
      "source": [
        "import os\n",
        "# Get current directory\n",
        "current_directory = os.getcwd()\n",
        "print(\"Current Directory:\", current_directory)\n",
        "\n",
        "files = os.listdir(current_directory)\n",
        "print(\"Files in Current Directory:\", files)\n",
        "\n",
        "os.chdir('concrete-ml/use_case_examples/llm')\n",
        "\n",
        "current_directory = os.getcwd()\n",
        "print(\"Current Directory:\", current_directory)"
      ],
      "metadata": {
        "colab": {
          "base_uri": "https://localhost:8080/"
        },
        "id": "17JE79SYHsN0",
        "outputId": "3901a404-27df-4025-fbf8-d3183ee25b2c"
      },
      "execution_count": 2,
      "outputs": [
        {
          "output_type": "stream",
          "name": "stdout",
          "text": [
            "Current Directory: /content\n",
            "Files in Current Directory: ['.config', 'concrete-ml', 'sample_data']\n",
            "Current Directory: /content/concrete-ml/use_case_examples/llm\n"
          ]
        }
      ]
    },
    {
      "cell_type": "code",
      "source": [
        "from concrete.ml.sklearn import LinearRegression as conLinearRegression\n",
        "from sklearn.linear_model import LinearRegression\n",
        "\n",
        "import numpy as np"
      ],
      "metadata": {
        "colab": {
          "base_uri": "https://localhost:8080/"
        },
        "id": "aplhYVfBZlYi",
        "outputId": "0024e000-d2cd-4026-e5b6-da40ff966bf8"
      },
      "execution_count": 1,
      "outputs": [
        {
          "output_type": "stream",
          "name": "stderr",
          "text": [
            "No CUDA runtime is found, using CUDA_HOME='/usr/local/cuda'\n"
          ]
        }
      ]
    },
    {
      "cell_type": "markdown",
      "source": [
        "### Unencrypted model from *HuggingFace*"
      ],
      "metadata": {
        "id": "mEgZDA-xJ_0b"
      }
    },
    {
      "cell_type": "code",
      "source": [
        "import logging\n",
        "\n",
        "import matplotlib.pyplot as plt\n",
        "import torch\n",
        "from load_huggingface import get_gpt2_model, get_gpt2_tokenizer\n",
        "from qgpt2_models import MultiHeadsQGPT2Model, SingleHeadQGPT2Model"
      ],
      "metadata": {
        "id": "mcnnOYd6JhSc"
      },
      "execution_count": 4,
      "outputs": []
    },
    {
      "cell_type": "code",
      "source": [
        "gpt2_model = get_gpt2_model(\"gpt2_model\")\n",
        "gpt2_tokenizer = get_gpt2_tokenizer(\"gpt2_tokenizer\")"
      ],
      "metadata": {
        "id": "TcE7gGE5JnVQ"
      },
      "execution_count": 5,
      "outputs": []
    },
    {
      "cell_type": "code",
      "source": [
        "input_sentence = \"Computations on encrypted data can help\""
      ],
      "metadata": {
        "id": "Ii6nURQMJubn"
      },
      "execution_count": 6,
      "outputs": []
    },
    {
      "cell_type": "code",
      "source": [
        "input_token_indexes = gpt2_tokenizer.encode(input_sentence)\n",
        "input_ids = torch.tensor(input_token_indexes).unsqueeze(0)\n",
        "\n",
        "print(input_token_indexes)\n",
        "print(input_ids)\n",
        "gpt2_tokenizer(input_sentence)"
      ],
      "metadata": {
        "colab": {
          "base_uri": "https://localhost:8080/"
        },
        "id": "pFH_WXFyJ7CZ",
        "outputId": "f311a407-dce6-4ff8-8053-6d0bcdfced63"
      },
      "execution_count": 7,
      "outputs": [
        {
          "output_type": "stream",
          "name": "stdout",
          "text": [
            "[5377, 1996, 602, 319, 19365, 1366, 460, 1037]\n",
            "tensor([[ 5377,  1996,   602,   319, 19365,  1366,   460,  1037]])\n"
          ]
        },
        {
          "output_type": "execute_result",
          "data": {
            "text/plain": [
              "{'input_ids': [5377, 1996, 602, 319, 19365, 1366, 460, 1037], 'attention_mask': [1, 1, 1, 1, 1, 1, 1, 1]}"
            ]
          },
          "metadata": {},
          "execution_count": 7
        }
      ]
    },
    {
      "cell_type": "code",
      "source": [
        "# Generate new tokens an get the following sentence\n",
        "output_ids = gpt2_model.generate(input_ids, max_new_tokens=4, use_cache=False)\n",
        "gpt2_tokenizer.decode(output_ids[0])"
      ],
      "metadata": {
        "colab": {
          "base_uri": "https://localhost:8080/",
          "height": 90
        },
        "id": "KV5-ipN7J-Zs",
        "outputId": "eb92d46c-c479-49e6-8d2d-554a264d6d31"
      },
      "execution_count": 8,
      "outputs": [
        {
          "output_type": "stream",
          "name": "stderr",
          "text": [
            "The attention mask and the pad token id were not set. As a consequence, you may observe unexpected behavior. Please pass your input's `attention_mask` to obtain reliable results.\n",
            "Setting `pad_token_id` to `eos_token_id`:50256 for open-end generation.\n"
          ]
        },
        {
          "output_type": "execute_result",
          "data": {
            "text/plain": [
              "'Computations on encrypted data can help protect your privacy.'"
            ],
            "application/vnd.google.colaboratory.intrinsic+json": {
              "type": "string"
            }
          },
          "metadata": {},
          "execution_count": 8
        }
      ]
    },
    {
      "cell_type": "markdown",
      "source": [
        "### Timing the execution, simulation, and disable modes for Single Attention Head Encrypted Model"
      ],
      "metadata": {
        "id": "_EFRdv-cLA5B"
      }
    },
    {
      "cell_type": "code",
      "source": [
        "proj_single_head_qgpt2 = SingleHeadQGPT2Model.from_pretrained(\n",
        "    \"gpt2_model\", n_bits=2, use_cache=False\n",
        ")"
      ],
      "metadata": {
        "colab": {
          "base_uri": "https://localhost:8080/"
        },
        "id": "ReVqiP3cK73t",
        "outputId": "b0fd9ec3-a868-4139-d48e-4e1d70378e6d"
      },
      "execution_count": 9,
      "outputs": [
        {
          "output_type": "stream",
          "name": "stderr",
          "text": [
            "Some weights of SingleHeadQGPT2Model were not initialized from the model checkpoint at gpt2_model and are newly initialized: ['transformer.h.0.attn.c_attn_1_11.bias', 'transformer.h.0.attn.c_attn_1_11.weight']\n",
            "You should probably TRAIN this model on a down-stream task to be able to use it for predictions and inference.\n"
          ]
        }
      ]
    },
    {
      "cell_type": "code",
      "source": [
        "import time\n",
        "\n",
        "# Initialize total time for each mode\n",
        "total_times = {'simulate': 0, 'disable': 0, 'execute': 0}\n",
        "\n",
        "\n",
        "\n"
      ],
      "metadata": {
        "id": "0eNSGkRBLyYP"
      },
      "execution_count": 10,
      "outputs": []
    },
    {
      "cell_type": "code",
      "source": [
        "proj_single_head_qgpt2.set_fhe_mode(fhe=\"disable\")\n",
        "for i in range(1):\n",
        "    print(i)\n",
        "    start_time = time.process_time()\n",
        "    output_logits_simulated = proj_single_head_qgpt2(input_ids).logits\n",
        "    end_time = time.process_time()\n",
        "    total_times['disable'] += (end_time - start_time)\n",
        "\n",
        "    print(total_times['disable'])\n"
      ],
      "metadata": {
        "colab": {
          "base_uri": "https://localhost:8080/"
        },
        "id": "hD8HcPCOgC6C",
        "outputId": "66b4056f-942f-4406-a0e0-af45bac482d4"
      },
      "execution_count": 12,
      "outputs": [
        {
          "output_type": "stream",
          "name": "stdout",
          "text": [
            "0\n",
            "0.3293991760000008\n"
          ]
        }
      ]
    },
    {
      "cell_type": "code",
      "source": [
        "circuit_single_head = proj_single_head_qgpt2.compile(input_ids)\n",
        "# Run the loop 10 times for each mode\n",
        "\n",
        "\n",
        "proj_single_head_qgpt2.set_fhe_mode(fhe=\"simulate\")\n",
        "for i in range(1):\n",
        "    print(i)\n",
        "    start_time = time.process_time()\n",
        "    output_logits_simulated = proj_single_head_qgpt2(input_ids).logits\n",
        "    end_time = time.process_time()\n",
        "    total_times['simulate'] += (end_time - start_time)\n",
        "\n",
        "    print(\"simulate\")\n",
        "    print(total_times['simulate'])\n",
        "\n",
        "\n"
      ],
      "metadata": {
        "colab": {
          "base_uri": "https://localhost:8080/"
        },
        "id": "9SIV3WLVc_TI",
        "outputId": "ca65c3c8-1542-43ad-86b7-83ba376648cb"
      },
      "execution_count": 15,
      "outputs": [
        {
          "output_type": "stream",
          "name": "stdout",
          "text": [
            "Circuit compiled with at most 4 bits\n",
            "0\n",
            "simulate\n",
            "0.4582041060000037\n"
          ]
        }
      ]
    },
    {
      "cell_type": "code",
      "source": [
        "circuit_single_head = proj_single_head_qgpt2.compile(input_ids)\n",
        "# Run the loop 10 times for each mode\n",
        "\n",
        "proj_single_head_qgpt2.set_fhe_mode(fhe=\"execute\")\n",
        "for i in range(1):\n",
        "    print(i)\n",
        "    start_time = time.process_time()\n",
        "    output_logits_simulated = proj_single_head_qgpt2(input_ids).logits\n",
        "    end_time = time.process_time()\n",
        "    total_times['execute'] += (end_time - start_time)\n",
        "    print(total_times['execute'])\n",
        "\n"
      ],
      "metadata": {
        "colab": {
          "base_uri": "https://localhost:8080/"
        },
        "id": "ixfAJ-LKdA4J",
        "outputId": "501f0f5a-5010-4bf9-d9b5-8b8e21d4cb1b"
      },
      "execution_count": 13,
      "outputs": [
        {
          "output_type": "stream",
          "name": "stdout",
          "text": [
            "Circuit compiled with at most 4 bits\n",
            "0\n",
            "28.117137912000004\n"
          ]
        }
      ]
    },
    {
      "cell_type": "code",
      "source": [
        "# Calculate the average time taken for each mode\n",
        "average_times = {mode: total_time / 1 for mode, total_time in total_times.items()}\n",
        "\n",
        "print(\"Average time per mode:\")\n",
        "for mode, avg_time in average_times.items():\n",
        "    print(f\"{mode}: {avg_time}\")"
      ],
      "metadata": {
        "colab": {
          "base_uri": "https://localhost:8080/"
        },
        "id": "5DfbB2ImgLZ6",
        "outputId": "a015030b-cb75-445f-9ba5-26e135771e6b"
      },
      "execution_count": 16,
      "outputs": [
        {
          "output_type": "stream",
          "name": "stdout",
          "text": [
            "Average time per mode:\n",
            "simulate: 0.4582041060000037\n",
            "disable: 0.3293991760000008\n",
            "execute: 28.117137912000004\n"
          ]
        }
      ]
    },
    {
      "cell_type": "markdown",
      "source": [
        "### Top-k Accuracy and Timing"
      ],
      "metadata": {
        "id": "JBu-u6RsIP03"
      }
    },
    {
      "cell_type": "code",
      "source": [
        "%matplotlib inline\n",
        "import time\n",
        "\n",
        "def generate_topk_tokens(model, tokenizer, text, top_k):\n",
        "    \"\"\"Generate the top-k tokens for every token in the text.\"\"\"\n",
        "    inputs = tokenizer.encode(text, return_tensors=\"pt\")[:, :10]\n",
        "    topk_tokens_list = []\n",
        "    with torch.no_grad():\n",
        "        outputs = model(inputs)\n",
        "        logits = outputs.logits\n",
        "        for logit in logits[0]:\n",
        "            topk_tokens = torch.topk(\n",
        "                logit,\n",
        "                top_k,\n",
        "            ).indices.tolist()\n",
        "            topk_tokens_list.append(topk_tokens)\n",
        "    return topk_tokens_list\n",
        "\n",
        "\n",
        "def calculate_topk_accuracy(ground_truth_tokens, computed_tokens):\n",
        "    \"\"\"Calculate the top-k accuracy.\"\"\"\n",
        "    correct_count = sum([1 for gt_token in ground_truth_tokens if gt_token in computed_tokens])\n",
        "    return correct_count / len(ground_truth_tokens)\n",
        "\n",
        "\n",
        "# Define the models to evaluate\n",
        "models = {\n",
        "    \"SingleHeadQGPT2Model\": SingleHeadQGPT2Model\n",
        "}\n",
        "\n",
        "# Define the different number of bits and k values to evaluate\n",
        "n_bits_range = [2,4,6]\n",
        "top_ks = [1]\n",
        "\n",
        "# Define the text data to use for the evaluation\n",
        "dataset_file = \"data.txt\"\n",
        "\n",
        "# Train model2 (constant model)\n",
        "# model2 = LinearRegression()\n",
        "# model2.fit(X_train, y_train)\n",
        "# t1 = time.process_time()\n",
        "# y_pred_clear = model2.predict(X_test)\n",
        "# t2 = time.process_time()\n",
        "# time_taken_og = t2 - t1\n",
        "# print(time_taken_og)\n",
        "\n",
        "# Read the evaluation file\n",
        "with open(dataset_file, \"r\", encoding=\"utf-8\") as file:\n",
        "    input_texts = [line.strip() for line in file][:200]\n",
        "\n",
        "for model_name, Model in models.items():\n",
        "    plt.figure()\n",
        "    for top_k in top_ks:\n",
        "        accuracies = []\n",
        "        time_clear=[]\n",
        "        time_enc=[]\n",
        "        for n_bits in n_bits_range:\n",
        "\n",
        "            # Load the model using the current number of bits and set it to clear quantized mode\n",
        "            model = Model.from_pretrained(\n",
        "                \"gpt2_model\",\n",
        "                n_bits=n_bits,\n",
        "            )\n",
        "\n",
        "            input_token_indexes = (gpt2_tokenizer.encode(input_texts[0]))[:10]\n",
        "            #torch.tensor(input_token_indexes).unsqueeze(0)\n",
        "            #print(input_token_indexes.shape)\n",
        "            input_ids = torch.tensor(input_token_indexes).unsqueeze(0)\n",
        "\n",
        "\n",
        "            model.compile(input_ids)\n",
        "            model.set_fhe_mode(fhe=\"simulate\")\n",
        "\n",
        "            #model.set_fhe_mode(fhe=\"disable\")\n",
        "\n",
        "\n",
        "            accuracy_scores = []\n",
        "            time_taken_clear = 0.0\n",
        "            time_taken_enc = 0.0\n",
        "\n",
        "            for text in input_texts:\n",
        "                print(text)\n",
        "\n",
        "                # input_token_indexes = (gpt2_tokenizer.encode(text))\n",
        "                # #torch.tensor(input_token_indexes).unsqueeze(0)\n",
        "                # #print(input_token_indexes.shape)\n",
        "                # input_ids = torch.tensor(input_token_indexes).unsqueeze(0)\n",
        "                # print(input_ids.shape)\n",
        "\n",
        "                # Generate the top-k tokens for the Hugging Face floating point model\n",
        "                t1 = time.process_time()\n",
        "                hf_topk_tokens_list = generate_topk_tokens(gpt2_model, gpt2_tokenizer, text, 1)\n",
        "\n",
        "                t2 = time.process_time()\n",
        "\n",
        "                time_taken_clear +=  t2 - t1\n",
        "\n",
        "                # Generate the top-k tokens for the clone model\n",
        "                t1 = time.process_time()\n",
        "                clone_topk_tokens_list = generate_topk_tokens(model, gpt2_tokenizer, text, top_k)\n",
        "\n",
        "                t2 = time.process_time()\n",
        "\n",
        "                time_taken_enc +=  t2 - t1\n",
        "\n",
        "\n",
        "                # Compute the top-k accuracy for each token in the text\n",
        "                for hf_topk_tokens, clone_topk_tokens in zip(\n",
        "                    hf_topk_tokens_list, clone_topk_tokens_list\n",
        "                ):\n",
        "                    topk_accuracy = calculate_topk_accuracy(hf_topk_tokens, clone_topk_tokens)\n",
        "                    accuracy_scores.append(topk_accuracy)\n",
        "\n",
        "            # Compute the average accuracy within the text\n",
        "            average_accuracy = sum(accuracy_scores) / len(accuracy_scores)\n",
        "            accuracies.append(average_accuracy)\n",
        "\n",
        "            time_clear.append(time_taken_clear)\n",
        "            time_enc.append(time_taken_enc)\n",
        "\n",
        "\n",
        "\n",
        "            # Print the average accuracy for this model, n_bits, and top_k\n",
        "            print(\n",
        "                f\"Model: {model_name}, \"\n",
        "                f\"n_bits: {n_bits}, \"\n",
        "                f\"Average Top-{top_k} Accuracy: {average_accuracy:.4f}\"\n",
        "            )\n",
        "            del model\n",
        "\n",
        "        plt.plot(n_bits_range, accuracies, label=f\"Top-{top_k}\", marker='o')\n",
        "\n",
        "    # Plot the model's evaluation\n",
        "    plt.title(f\"{model_name}\")\n",
        "    plt.xlabel(\"n_bits\")\n",
        "    plt.ylabel(\"Average top-1 Accuracy\")\n",
        "    #plt.legend()\n",
        "    plt.grid(True)\n",
        "    plt.ylim(0, 1.05)\n",
        "    # plt.axhline(y=r2_score(y_test, y_pred_clear), color='r', linestyle='--', label='R2 (LinearRegression sklearn)')\n",
        "\n",
        "    plt.figure(figsize=(8, 6))\n",
        "    plt.plot(n_bits_range, time_enc, marker='o', label='Time taken (Concrete)')\n",
        "    plt.axhline(y=sum(time_clear)/len(time_clear), color='r', linestyle='--', label='Time (GPT2)')\n",
        "    plt.xlabel('n_bits')\n",
        "    plt.ylabel('Time (s)')\n",
        "    plt.title('Time Taken (s) for Quantization Bits for GPT2')\n",
        "    plt.xticks(n_bits_range)\n",
        "    plt.legend()\n",
        "    plt.grid(True)\n",
        "    plt.show()\n",
        "\n",
        "\n",
        "plt.show()"
      ],
      "metadata": {
        "colab": {
          "base_uri": "https://localhost:8080/",
          "height": 1000
        },
        "id": "-D-RtAJjVxGf",
        "outputId": "e6521514-2442-49ce-86cb-7f1ee4edd1c8"
      },
      "execution_count": 10,
      "outputs": [
        {
          "output_type": "stream",
          "name": "stderr",
          "text": [
            "Some weights of SingleHeadQGPT2Model were not initialized from the model checkpoint at gpt2_model and are newly initialized: ['transformer.h.0.attn.c_attn_1_11.bias', 'transformer.h.0.attn.c_attn_1_11.weight']\n",
            "You should probably TRAIN this model on a down-stream task to be able to use it for predictions and inference.\n"
          ]
        },
        {
          "output_type": "stream",
          "name": "stdout",
          "text": [
            "Circuit compiled with at most 4 bits\n",
            "In a world where technology reigns supreme, humans struggle to find their place. Amidst the rapid advancements and reliance on artificial intelligence, individuals yearn for a deeper connection to nature and their own humanity,\n",
            "As the young wizard embarks on their perilous quest to save their magical kingdom from darkness,\n",
            "A foreboding prophecy looms over their journey, hinting at a destiny that may require great sacrifice.\n",
            "In the bustling city streets, an artist sets up their easel to capture the vibrant energy,\n",
            "Passersby pause to admire the artist's work, momentarily transported to a world of color and imagination.\n",
            "In a small village nestled among the mountains, a secret is waiting to be uncovered,\n",
            "The villagers whisper of a hidden relic, said to possess ancient powers that can restore harmony to their land.\n",
            "Lost in time, the group of explorers stumble upon an ancient civilization,\n",
            "They marvel at the magnificent ruins, their minds racing with questions about the civilization's rise and fall.\n",
            "In the depths of space, the spaceship hurtles towards an unknown destination,\n",
            "The crew, filled with anticipation and trepidation, wonders what mysteries and wonders await them beyond the stars.\n",
            "Amidst the chaos of war, the soldier finds hope in an unexpected encounter,\n",
            "A chance meeting with a compassionate stranger reminds them of the power of empathy and the resilience of the human spirit.\n",
            "A detective unravels a web of deceit to solve a mysterious murder case,\n",
            "Each clue leads them deeper into a labyrinth of secrets, where the truth proves more elusive than anticipated.\n",
            "In a parallel universe, mythical creatures coexist with humans,\n",
            "Dragons soar through the skies, while mermaids sing enchanting melodies by the riverside, blurring the line between fantasy and reality.\n",
            "A young chef experiments with flavors to create the perfect culinary masterpiece,\n",
            "With each new combination of ingredients, they push the boundaries of taste, delighting both their patrons and their own senses.\n",
            "A pianist takes the stage, their fingers dancing across the keys in a mesmerizing melody,\n",
            "The music fills the air, evoking emotions that words alone cannot express, captivating the audience in a symphony of emotions.\n",
            "Deep in the enchanted forest, the fairy grants a wish to an unsuspecting traveler,\n",
            "The traveler's heart skips a beat as their deepest desire is whispered into existence, forever altering the course of their life.\n",
            "In the heart of the ocean, the majestic whale breaches the surface with grace,\n",
            "Its presence is a reminder of the immense beauty and power that lies beneath the waves, stirring a sense of awe and reverence in all who witness it.\n",
            "An aspiring writer scribbles furiously, weaving tales of adventure and romance,\n",
            "The characters come alive on the pages, their stories intertwining and guiding the writer on a journey of self-discovery.\n",
            "In a dystopian society, a rebellion brews beneath the surface,\n",
            "Whispers of resistance spread like wildfire, as the oppressed find the courage to challenge the oppressive regime and fight for freedom.\n",
            "A scientist makes a groundbreaking discovery that could change the course of history,\n",
            "Their hands tremble with excitement as they realize the immense potential and responsibility that comes with this newfound knowledge.\n",
            "Amidst the ruins of a once-great civilization, nature reclaims its rightful place,\n",
            "Trees sprout through cracked pavement, and wildlife thrives, reminding humanity of the impermanence of their own creations.\n",
            "A group of friends embark on a road trip, seeking adventure and unforgettable memories,\n",
            "With the wind in their hair and a sense of freedom in their hearts, they leave behind the worries of everyday life, ready to embrace the unknown.\n",
            "In a distant galaxy, a brave starfighter prepares for an interstellar battle against an alien invasion,\n",
            "His hands grip the control panel, adrenaline coursing through his veins as he readies his ship for the imminent clash.\n",
            "Within the depths of a haunted mansion, a paranormal investigator senses a lingering presence,\n",
            "Goosebumps ripple across their skin, as they prepare to uncover the dark secrets that lie within the crumbling walls.\n",
            "In a post-apocalyptic wasteland, a lone survivor scavenges for scarce resources,\n",
            "Their footsteps echo through the desolate landscape, a constant reminder of the world that once was.\n",
            "At the edge of a mystical waterfall, a sorceress conjures a powerful spell,\n",
            "Her incantations dance on her lips, intertwining with the elemental forces around her in a mesmerizing display of magic.\n",
            "In a cyberpunk metropolis, a rogue hacker infiltrates a highly secure corporate network,\n",
            "Fingers dancing across the holographic keyboard, they navigate the digital labyrinth with precision and finesse.\n",
            "Deep in the heart of a dense jungle, an archaeologist uncovers a hidden temple,\n",
            "Ancient hieroglyphics adorn the walls, whispering tales of forgotten civilizations and untold treasures.\n",
            "Amidst the echoes of gunfire, a medic tends to wounded soldiers on the battlefield,\n",
            "Her steady hands and compassionate gaze bring solace amidst the chaos and despair of war.\n",
            "In a bustling marketplace, a street performer captivates the crowd with a dazzling fire dance,\n",
            "Sparks leap and swirl in the night air, as gasps of wonder escape the onlookers' lips.\n",
            "Within the realm of dreams, a dreamweaver spins ethereal threads of imagination,\n",
            "Nightmares dissipate and dreams take flight under the careful guidance of their skilled hands.\n",
            "On the high seas, a pirate captain sets sail in search of buried treasure,\n",
            "The wind fills their sails as they navigate treacherous waters, guided by an old map and an insatiable thirst for adventure.\n",
            "Beneath the starry sky, a poet pens verses that capture the essence of the universe,\n",
            "Words flow like constellations, weaving cosmic tales of love, longing, and the infinite mysteries of existence.\n",
            "In the realm of virtual reality, a game designer creates immersive worlds,\n",
            "Pixels and code merge to form sprawling landscapes, where players can forge their own destinies.\n",
            "In the twilight hours, a solitary astronomer gazes at the heavens through their telescope,\n",
            "Galaxies unfold before their eyes, revealing the vastness of the cosmos and igniting a sense of wonder.\n",
            "Within the halls of a prestigious academy, a prodigious student delves into forbidden knowledge,\n",
            "Boundless curiosity drives them to unravel the secrets of forbidden tomes, despite the risks that lie ahead.\n",
            "In the depths of a magical forest, a shape-shifter embraces their true form,\n",
            "Fur or feathers, scales or fins, they embody the boundless diversity of the natural world.\n",
            "On a serene mountaintop, a wise guru imparts ancient wisdom to eager disciples,\n",
            "Their voice carries the weight of centuries, resonating with timeless truths and profound enlightenment.\n",
            "As twilight falls, a mystic oracle consults the ancient runes,\n",
            "Fingertips brush against the weathered symbols, unraveling the enigmatic messages of fate and destiny.\n",
            "Within the bustling kitchen of a renowned restaurant, a sous chef orchestrates a symphony of flavors,\n",
            "Pots and pans clang in harmony as culinary masterpieces come to life under their expert guidance.\n",
            "In the realm of dreams, a wishful dreamer drifts into a world of infinite possibilities,\n",
            "Whispered hopes and desires weave through the ethereal tapestry, waiting to be realized.\n",
            "At the peak of a snow-capped mountain, an ice sculptor carves delicate creations from frozen water,\n",
            "Chisels and blades shape ice into intricate forms, capturing the ephemeral beauty of winter.\n",
            "In the heart of a dense forest, a healer gathers herbs and plants for their medicinal remedies,\n",
            "Hands caress leaves and petals, harnessing the ancient power of nature to bring relief and restoration.\n",
            "On the stage of a grand theater, a troupe of actors transports the audience to different eras and realms,\n",
            "The limelight illuminates their performances, breathing life into characters and narratives both old and new.\n",
            "Model: SingleHeadQGPT2Model, n_bits: 2, Average Top-1 Accuracy: 0.8291\n"
          ]
        },
        {
          "output_type": "stream",
          "name": "stderr",
          "text": [
            "Some weights of SingleHeadQGPT2Model were not initialized from the model checkpoint at gpt2_model and are newly initialized: ['transformer.h.0.attn.c_attn_1_11.bias', 'transformer.h.0.attn.c_attn_1_11.weight']\n",
            "You should probably TRAIN this model on a down-stream task to be able to use it for predictions and inference.\n"
          ]
        },
        {
          "output_type": "stream",
          "name": "stdout",
          "text": [
            "Circuit compiled with at most 9 bits\n",
            "In a world where technology reigns supreme, humans struggle to find their place. Amidst the rapid advancements and reliance on artificial intelligence, individuals yearn for a deeper connection to nature and their own humanity,\n",
            "As the young wizard embarks on their perilous quest to save their magical kingdom from darkness,\n",
            "A foreboding prophecy looms over their journey, hinting at a destiny that may require great sacrifice.\n",
            "In the bustling city streets, an artist sets up their easel to capture the vibrant energy,\n",
            "Passersby pause to admire the artist's work, momentarily transported to a world of color and imagination.\n",
            "In a small village nestled among the mountains, a secret is waiting to be uncovered,\n",
            "The villagers whisper of a hidden relic, said to possess ancient powers that can restore harmony to their land.\n",
            "Lost in time, the group of explorers stumble upon an ancient civilization,\n",
            "They marvel at the magnificent ruins, their minds racing with questions about the civilization's rise and fall.\n",
            "In the depths of space, the spaceship hurtles towards an unknown destination,\n",
            "The crew, filled with anticipation and trepidation, wonders what mysteries and wonders await them beyond the stars.\n",
            "Amidst the chaos of war, the soldier finds hope in an unexpected encounter,\n",
            "A chance meeting with a compassionate stranger reminds them of the power of empathy and the resilience of the human spirit.\n",
            "A detective unravels a web of deceit to solve a mysterious murder case,\n",
            "Each clue leads them deeper into a labyrinth of secrets, where the truth proves more elusive than anticipated.\n",
            "In a parallel universe, mythical creatures coexist with humans,\n",
            "Dragons soar through the skies, while mermaids sing enchanting melodies by the riverside, blurring the line between fantasy and reality.\n",
            "A young chef experiments with flavors to create the perfect culinary masterpiece,\n",
            "With each new combination of ingredients, they push the boundaries of taste, delighting both their patrons and their own senses.\n",
            "A pianist takes the stage, their fingers dancing across the keys in a mesmerizing melody,\n",
            "The music fills the air, evoking emotions that words alone cannot express, captivating the audience in a symphony of emotions.\n",
            "Deep in the enchanted forest, the fairy grants a wish to an unsuspecting traveler,\n",
            "The traveler's heart skips a beat as their deepest desire is whispered into existence, forever altering the course of their life.\n",
            "In the heart of the ocean, the majestic whale breaches the surface with grace,\n",
            "Its presence is a reminder of the immense beauty and power that lies beneath the waves, stirring a sense of awe and reverence in all who witness it.\n",
            "An aspiring writer scribbles furiously, weaving tales of adventure and romance,\n",
            "The characters come alive on the pages, their stories intertwining and guiding the writer on a journey of self-discovery.\n",
            "In a dystopian society, a rebellion brews beneath the surface,\n",
            "Whispers of resistance spread like wildfire, as the oppressed find the courage to challenge the oppressive regime and fight for freedom.\n",
            "A scientist makes a groundbreaking discovery that could change the course of history,\n",
            "Their hands tremble with excitement as they realize the immense potential and responsibility that comes with this newfound knowledge.\n",
            "Amidst the ruins of a once-great civilization, nature reclaims its rightful place,\n",
            "Trees sprout through cracked pavement, and wildlife thrives, reminding humanity of the impermanence of their own creations.\n",
            "A group of friends embark on a road trip, seeking adventure and unforgettable memories,\n",
            "With the wind in their hair and a sense of freedom in their hearts, they leave behind the worries of everyday life, ready to embrace the unknown.\n",
            "In a distant galaxy, a brave starfighter prepares for an interstellar battle against an alien invasion,\n",
            "His hands grip the control panel, adrenaline coursing through his veins as he readies his ship for the imminent clash.\n",
            "Within the depths of a haunted mansion, a paranormal investigator senses a lingering presence,\n",
            "Goosebumps ripple across their skin, as they prepare to uncover the dark secrets that lie within the crumbling walls.\n",
            "In a post-apocalyptic wasteland, a lone survivor scavenges for scarce resources,\n",
            "Their footsteps echo through the desolate landscape, a constant reminder of the world that once was.\n",
            "At the edge of a mystical waterfall, a sorceress conjures a powerful spell,\n",
            "Her incantations dance on her lips, intertwining with the elemental forces around her in a mesmerizing display of magic.\n",
            "In a cyberpunk metropolis, a rogue hacker infiltrates a highly secure corporate network,\n",
            "Fingers dancing across the holographic keyboard, they navigate the digital labyrinth with precision and finesse.\n",
            "Deep in the heart of a dense jungle, an archaeologist uncovers a hidden temple,\n",
            "Ancient hieroglyphics adorn the walls, whispering tales of forgotten civilizations and untold treasures.\n",
            "Amidst the echoes of gunfire, a medic tends to wounded soldiers on the battlefield,\n",
            "Her steady hands and compassionate gaze bring solace amidst the chaos and despair of war.\n",
            "In a bustling marketplace, a street performer captivates the crowd with a dazzling fire dance,\n",
            "Sparks leap and swirl in the night air, as gasps of wonder escape the onlookers' lips.\n",
            "Within the realm of dreams, a dreamweaver spins ethereal threads of imagination,\n",
            "Nightmares dissipate and dreams take flight under the careful guidance of their skilled hands.\n",
            "On the high seas, a pirate captain sets sail in search of buried treasure,\n",
            "The wind fills their sails as they navigate treacherous waters, guided by an old map and an insatiable thirst for adventure.\n",
            "Beneath the starry sky, a poet pens verses that capture the essence of the universe,\n",
            "Words flow like constellations, weaving cosmic tales of love, longing, and the infinite mysteries of existence.\n",
            "In the realm of virtual reality, a game designer creates immersive worlds,\n",
            "Pixels and code merge to form sprawling landscapes, where players can forge their own destinies.\n",
            "In the twilight hours, a solitary astronomer gazes at the heavens through their telescope,\n",
            "Galaxies unfold before their eyes, revealing the vastness of the cosmos and igniting a sense of wonder.\n",
            "Within the halls of a prestigious academy, a prodigious student delves into forbidden knowledge,\n",
            "Boundless curiosity drives them to unravel the secrets of forbidden tomes, despite the risks that lie ahead.\n",
            "In the depths of a magical forest, a shape-shifter embraces their true form,\n",
            "Fur or feathers, scales or fins, they embody the boundless diversity of the natural world.\n",
            "On a serene mountaintop, a wise guru imparts ancient wisdom to eager disciples,\n",
            "Their voice carries the weight of centuries, resonating with timeless truths and profound enlightenment.\n",
            "As twilight falls, a mystic oracle consults the ancient runes,\n",
            "Fingertips brush against the weathered symbols, unraveling the enigmatic messages of fate and destiny.\n",
            "Within the bustling kitchen of a renowned restaurant, a sous chef orchestrates a symphony of flavors,\n",
            "Pots and pans clang in harmony as culinary masterpieces come to life under their expert guidance.\n",
            "In the realm of dreams, a wishful dreamer drifts into a world of infinite possibilities,\n",
            "Whispered hopes and desires weave through the ethereal tapestry, waiting to be realized.\n",
            "At the peak of a snow-capped mountain, an ice sculptor carves delicate creations from frozen water,\n",
            "Chisels and blades shape ice into intricate forms, capturing the ephemeral beauty of winter.\n",
            "In the heart of a dense forest, a healer gathers herbs and plants for their medicinal remedies,\n",
            "Hands caress leaves and petals, harnessing the ancient power of nature to bring relief and restoration.\n",
            "On the stage of a grand theater, a troupe of actors transports the audience to different eras and realms,\n",
            "The limelight illuminates their performances, breathing life into characters and narratives both old and new.\n",
            "Model: SingleHeadQGPT2Model, n_bits: 4, Average Top-1 Accuracy: 0.9443\n"
          ]
        },
        {
          "output_type": "stream",
          "name": "stderr",
          "text": [
            "Some weights of SingleHeadQGPT2Model were not initialized from the model checkpoint at gpt2_model and are newly initialized: ['transformer.h.0.attn.c_attn_1_11.bias', 'transformer.h.0.attn.c_attn_1_11.weight']\n",
            "You should probably TRAIN this model on a down-stream task to be able to use it for predictions and inference.\n"
          ]
        },
        {
          "output_type": "stream",
          "name": "stdout",
          "text": [
            "Circuit compiled with at most 13 bits\n",
            "In a world where technology reigns supreme, humans struggle to find their place. Amidst the rapid advancements and reliance on artificial intelligence, individuals yearn for a deeper connection to nature and their own humanity,\n",
            "As the young wizard embarks on their perilous quest to save their magical kingdom from darkness,\n",
            "A foreboding prophecy looms over their journey, hinting at a destiny that may require great sacrifice.\n",
            "In the bustling city streets, an artist sets up their easel to capture the vibrant energy,\n",
            "Passersby pause to admire the artist's work, momentarily transported to a world of color and imagination.\n",
            "In a small village nestled among the mountains, a secret is waiting to be uncovered,\n",
            "The villagers whisper of a hidden relic, said to possess ancient powers that can restore harmony to their land.\n",
            "Lost in time, the group of explorers stumble upon an ancient civilization,\n",
            "They marvel at the magnificent ruins, their minds racing with questions about the civilization's rise and fall.\n",
            "In the depths of space, the spaceship hurtles towards an unknown destination,\n",
            "The crew, filled with anticipation and trepidation, wonders what mysteries and wonders await them beyond the stars.\n",
            "Amidst the chaos of war, the soldier finds hope in an unexpected encounter,\n",
            "A chance meeting with a compassionate stranger reminds them of the power of empathy and the resilience of the human spirit.\n",
            "A detective unravels a web of deceit to solve a mysterious murder case,\n",
            "Each clue leads them deeper into a labyrinth of secrets, where the truth proves more elusive than anticipated.\n",
            "In a parallel universe, mythical creatures coexist with humans,\n",
            "Dragons soar through the skies, while mermaids sing enchanting melodies by the riverside, blurring the line between fantasy and reality.\n",
            "A young chef experiments with flavors to create the perfect culinary masterpiece,\n",
            "With each new combination of ingredients, they push the boundaries of taste, delighting both their patrons and their own senses.\n",
            "A pianist takes the stage, their fingers dancing across the keys in a mesmerizing melody,\n",
            "The music fills the air, evoking emotions that words alone cannot express, captivating the audience in a symphony of emotions.\n",
            "Deep in the enchanted forest, the fairy grants a wish to an unsuspecting traveler,\n",
            "The traveler's heart skips a beat as their deepest desire is whispered into existence, forever altering the course of their life.\n",
            "In the heart of the ocean, the majestic whale breaches the surface with grace,\n",
            "Its presence is a reminder of the immense beauty and power that lies beneath the waves, stirring a sense of awe and reverence in all who witness it.\n",
            "An aspiring writer scribbles furiously, weaving tales of adventure and romance,\n",
            "The characters come alive on the pages, their stories intertwining and guiding the writer on a journey of self-discovery.\n",
            "In a dystopian society, a rebellion brews beneath the surface,\n",
            "Whispers of resistance spread like wildfire, as the oppressed find the courage to challenge the oppressive regime and fight for freedom.\n",
            "A scientist makes a groundbreaking discovery that could change the course of history,\n",
            "Their hands tremble with excitement as they realize the immense potential and responsibility that comes with this newfound knowledge.\n",
            "Amidst the ruins of a once-great civilization, nature reclaims its rightful place,\n",
            "Trees sprout through cracked pavement, and wildlife thrives, reminding humanity of the impermanence of their own creations.\n",
            "A group of friends embark on a road trip, seeking adventure and unforgettable memories,\n",
            "With the wind in their hair and a sense of freedom in their hearts, they leave behind the worries of everyday life, ready to embrace the unknown.\n",
            "In a distant galaxy, a brave starfighter prepares for an interstellar battle against an alien invasion,\n",
            "His hands grip the control panel, adrenaline coursing through his veins as he readies his ship for the imminent clash.\n",
            "Within the depths of a haunted mansion, a paranormal investigator senses a lingering presence,\n",
            "Goosebumps ripple across their skin, as they prepare to uncover the dark secrets that lie within the crumbling walls.\n",
            "In a post-apocalyptic wasteland, a lone survivor scavenges for scarce resources,\n",
            "Their footsteps echo through the desolate landscape, a constant reminder of the world that once was.\n",
            "At the edge of a mystical waterfall, a sorceress conjures a powerful spell,\n",
            "Her incantations dance on her lips, intertwining with the elemental forces around her in a mesmerizing display of magic.\n",
            "In a cyberpunk metropolis, a rogue hacker infiltrates a highly secure corporate network,\n",
            "Fingers dancing across the holographic keyboard, they navigate the digital labyrinth with precision and finesse.\n",
            "Deep in the heart of a dense jungle, an archaeologist uncovers a hidden temple,\n",
            "Ancient hieroglyphics adorn the walls, whispering tales of forgotten civilizations and untold treasures.\n",
            "Amidst the echoes of gunfire, a medic tends to wounded soldiers on the battlefield,\n",
            "Her steady hands and compassionate gaze bring solace amidst the chaos and despair of war.\n",
            "In a bustling marketplace, a street performer captivates the crowd with a dazzling fire dance,\n",
            "Sparks leap and swirl in the night air, as gasps of wonder escape the onlookers' lips.\n",
            "Within the realm of dreams, a dreamweaver spins ethereal threads of imagination,\n",
            "Nightmares dissipate and dreams take flight under the careful guidance of their skilled hands.\n",
            "On the high seas, a pirate captain sets sail in search of buried treasure,\n",
            "The wind fills their sails as they navigate treacherous waters, guided by an old map and an insatiable thirst for adventure.\n",
            "Beneath the starry sky, a poet pens verses that capture the essence of the universe,\n",
            "Words flow like constellations, weaving cosmic tales of love, longing, and the infinite mysteries of existence.\n",
            "In the realm of virtual reality, a game designer creates immersive worlds,\n",
            "Pixels and code merge to form sprawling landscapes, where players can forge their own destinies.\n",
            "In the twilight hours, a solitary astronomer gazes at the heavens through their telescope,\n",
            "Galaxies unfold before their eyes, revealing the vastness of the cosmos and igniting a sense of wonder.\n",
            "Within the halls of a prestigious academy, a prodigious student delves into forbidden knowledge,\n",
            "Boundless curiosity drives them to unravel the secrets of forbidden tomes, despite the risks that lie ahead.\n",
            "In the depths of a magical forest, a shape-shifter embraces their true form,\n",
            "Fur or feathers, scales or fins, they embody the boundless diversity of the natural world.\n",
            "On a serene mountaintop, a wise guru imparts ancient wisdom to eager disciples,\n",
            "Their voice carries the weight of centuries, resonating with timeless truths and profound enlightenment.\n",
            "As twilight falls, a mystic oracle consults the ancient runes,\n",
            "Fingertips brush against the weathered symbols, unraveling the enigmatic messages of fate and destiny.\n",
            "Within the bustling kitchen of a renowned restaurant, a sous chef orchestrates a symphony of flavors,\n",
            "Pots and pans clang in harmony as culinary masterpieces come to life under their expert guidance.\n",
            "In the realm of dreams, a wishful dreamer drifts into a world of infinite possibilities,\n",
            "Whispered hopes and desires weave through the ethereal tapestry, waiting to be realized.\n",
            "At the peak of a snow-capped mountain, an ice sculptor carves delicate creations from frozen water,\n",
            "Chisels and blades shape ice into intricate forms, capturing the ephemeral beauty of winter.\n",
            "In the heart of a dense forest, a healer gathers herbs and plants for their medicinal remedies,\n",
            "Hands caress leaves and petals, harnessing the ancient power of nature to bring relief and restoration.\n",
            "On the stage of a grand theater, a troupe of actors transports the audience to different eras and realms,\n",
            "The limelight illuminates their performances, breathing life into characters and narratives both old and new.\n",
            "Model: SingleHeadQGPT2Model, n_bits: 6, Average Top-1 Accuracy: 0.9835\n"
          ]
        },
        {
          "output_type": "display_data",
          "data": {
            "text/plain": [
              "<Figure size 640x480 with 1 Axes>"
            ],
            "image/png": "[encoded data removed]"
          },
          "metadata": {}
        },
        {
          "output_type": "display_data",
          "data": {
            "text/plain": [
              "<Figure size 800x600 with 1 Axes>"
            ],
            "image/png": "[encoded data removed]"
          },
          "metadata": {}
        }
      ]
    }
  ]
}